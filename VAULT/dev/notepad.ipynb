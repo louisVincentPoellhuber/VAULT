{
 "cells": [
  {
   "cell_type": "code",
   "execution_count": null,
   "id": "4a624aa6",
   "metadata": {},
   "outputs": [],
   "source": [
    "import json\n",
    "with open(\"/Tmp/lvpoellhuber/datasets/vault/wikipedia/downloads/AA/wiki_00\", \"r\") as f:\n",
    "    lines = f.readlines()\n"
   ]
  },
  {
   "cell_type": "code",
   "execution_count": 45,
   "id": "ebab6976",
   "metadata": {},
   "outputs": [],
   "source": [
    "import re\n",
    "import json\n",
    "\n",
    "BLACKLIST_HEADERS = {\n",
    "    \"References\", \"Bibliography\", \"Notes\", \"External links\", \"See also\",\n",
    "    \"Citations\", \"Further reading\", \"Sources\"\n",
    "}\n",
    "\n",
    "def is_header(line):\n",
    "    \"\"\"Heuristic: detect if a line is a section header.\"\"\"\n",
    "    if not line:\n",
    "        return False\n",
    "    \n",
    "    if not line[0].isupper():\n",
    "        return False\n",
    "    if not line.endswith(\".\"):\n",
    "        return False\n",
    "    \n",
    "    words = line.split()\n",
    "    if len(words) > 8:\n",
    "        return False\n",
    "    \n",
    "    header_name = line.rstrip(\".\")\n",
    "    if header_name in BLACKLIST_HEADERS:\n",
    "        return False\n",
    "    \n",
    "    if len(words) <= 6 and not re.search(r\"[!?]\", line):\n",
    "        return True\n",
    "    \n",
    "    return False\n",
    "\n",
    "\n",
    "def chunk_text(text, max_words):\n",
    "    \"\"\"Split text into chunks of at most max_words.\"\"\"\n",
    "    words = text.split()\n",
    "    chunks = []\n",
    "    for i in range(0, len(words), max_words):\n",
    "        chunk = \" \".join(words[i:i+max_words])\n",
    "        chunks.append(chunk)\n",
    "    return chunks\n",
    "\n",
    "\n",
    "def split_sections(text, max_words=512):\n",
    "    lines = [l.strip() for l in text.split(\"\\n\") if l.strip()]\n",
    "    sections = []\n",
    "    current_header = \"Introduction\"\n",
    "    current_text = []\n",
    "\n",
    "    for line in lines:\n",
    "        if is_header(line):\n",
    "            # Save the previous section if it has content\n",
    "            if current_text:\n",
    "                full_text = current_header + \". \" + \" \".join(current_text).strip()\n",
    "                sections.extend(chunk_text(full_text, max_words))\n",
    "                current_text = []\n",
    "            current_header = line.rstrip(\".\")\n",
    "        else:\n",
    "            current_text.append(line)\n",
    "\n",
    "    # Save the last section\n",
    "    if current_text:\n",
    "        full_text = current_header + \". \" + \" \".join(current_text).strip()\n",
    "        sections.extend(chunk_text(full_text, max_words))\n",
    "\n",
    "    return sections\n",
    "\n",
    "all_sections = []\n",
    "for line in lines:\n",
    "    obj = json.loads(line)\n",
    "    text = obj[\"text\"]\n",
    "    sections = split_sections(text)\n",
    "    all_sections.append(sections)"
   ]
  },
  {
   "cell_type": "code",
   "execution_count": 48,
   "id": "493daf27",
   "metadata": {},
   "outputs": [],
   "source": [
    "import sqlite3\n",
    "\n",
    "corpus_path = \"/Tmp/lvpoellhuber/datasets/vault/test/corpus.db\"\n",
    "conn = sqlite3.connect(corpus_path)\n",
    "c = conn.cursor()\n",
    "\n",
    "# Get first 10 items in corpus\n",
    "c.execute(\"SELECT * FROM articles LIMIT 10\")\n",
    "rows = c.fetchall()"
   ]
  },
  {
   "cell_type": "code",
   "execution_count": 49,
   "id": "bf27c027",
   "metadata": {},
   "outputs": [
    {
     "data": {
      "text/plain": [
       "[('573199-0',\n",
       "  'Epic Games',\n",
       "  'Introduction. American video game company Epic Games, Inc. is an American video game and software developer and publisher based in Cary, North Carolina. The company was founded by Tim Sweeney as Potomac Computer Systems in 1991, originally located in his parents\\' house in Potomac, Maryland. Following its first commercial video game release, \"ZZT\" (1991), the company became Epic MegaGames, Inc. in early 1992 and brought on Mark Rein, who has been its vice president since. After moving the headquarters to Cary in 1999, the studio changed its name to Epic Games. Epic Games developed Unreal Engine, a commercially available game engine which also powers its internally developed video games like \"Fortnite\" and the \"Unreal\", \"Gears of War\", and \"Infinity Blade\" series. In 2014, Unreal Engine was named the \"most successful videogame engine\" by \"Guinness World Records\". Epic Games owns the game developers Psyonix, Mediatonic, and Harmonix, and operates studios in multiple locations around the world. While Sweeney remains the controlling shareholder, Tencent acquired a 48.4% outstanding stake, equating to 40% of total Epic, in the company in 2012, as part of an agreement aimed at moving Epic towards a games as a service model. Following the release of the popular \"Fortnite Battle Royale\" in 2017, the company gained additional investments that enabled it to expand its Unreal Engine offerings, establish esports events around \"Fortnite\", and launch the Epic Games Store. As of April 2022, the company has a US$ equity valuation.',\n",
       "  'https://en.wikipedia.org/wiki?curid=573199'),\n",
       " ('573199-1',\n",
       "  'Epic Games',\n",
       "  'Potomac Computer Systems (1991–1992). Potomac Computer Systems was founded by Tim Sweeney in 1991. At the time, Sweeney was studying mechanical engineering and living in a dorm at the University of Maryland. He frequently visited his parents, who lived in nearby Potomac, Maryland, where his personal computer, used for both work and leisure, was situated. Out of this location, Sweeney started Potomac Computer Systems as a computer consulting business but later figured that it would be too much work he would have to put into keeping the business stable, and scrapped the idea. After finishing his game \"ZZT\", Sweeney opted to re-use the Potomac Computer Systems name to release the game to the public in January 1991. It was only with the unexpected success of \"ZZT\", caused in most part by the easy modifiability of the game using Sweeney\\'s custom ZZT-oop programming language, that made Sweeney consider turning Potomac Computer Systems into a video game company. \"ZZT\" was sold through bulletin board systems, while all orders were fulfilled by Sweeney\\'s father, Paul Sweeney. The game sold several thousand copies as of May 2009, and Paul Sweeney still lived at the former Potomac Computer Systems address at the time, fulfilling all orders that eventually came by mail. The final copy of \"ZZT\" was shipped by Paul Sweeney in November 2013.',\n",
       "  'https://en.wikipedia.org/wiki?curid=573199'),\n",
       " ('573199-2',\n",
       "  'Epic Games',\n",
       "  'Epic MegaGames (1992–1999). In early 1992, Sweeney found himself and his new-found video game company in a business where larger studios, such as Apogee Software and id Software, were dominant, and he had to find a more serious name for his. As such, Sweeney came up with \"Epic MegaGames\", a name which incorporated \"Epic\" and \"Mega\" to make it sound like it represented a fairly large company (such as Apogee Software), although he was its only employee. Sweeney soon underwent searching for a business partner, and eventually caught up with Mark Rein, who previously quit his job at id Software and moved to Toronto, Ontario. Rein worked remotely from Toronto, and primarily handled sales, marketing and publishing deals; business development that Sweeney found to have significantly contributed to the company\\'s growth. Some time this season, the company soon had 20 employees consisting of programmers, artists, designers and composers. Among them was the 17-year old Cliff Bleszinski, who joined the company after submitting his game \"Dare to Dream\" to Sweeney. The following year, they had over 30 employees. In 1996, Epic MegaGames produced a shareware isometric shooter called \"Fire Fight\", developed by Polish studio Chaos Works. It was published by Electronic Arts. By 1997, Epic MegaGames had 50 people working for them worldwide. In 1998, Epic MegaGames released \"Unreal\", a 3D first-person shooter co-developed with Digital Extremes, which expanded into a series of \"Unreal\" games. The company also began to license the core technology, the Unreal Engine, to other game developers.',\n",
       "  'https://en.wikipedia.org/wiki?curid=573199'),\n",
       " ('573199-3',\n",
       "  'Epic Games',\n",
       "  'Epic Games (1999–present). \"Unreal\" and personal computer games (1999–2006). In February 1999, Epic MegaGames announced that they had moved their headquarters to a new location in Cary, North Carolina, and would henceforth be known as simply Epic Games. Rein explained that \"\"Unreal\" was first created by developers who were scattered across the world, eventually, the team came together to finish the game and that\\'s when the real magic started. The move to North Carolina centralizes Epic, bringing all of the company\\'s talented developers under one roof.\" Furthermore, Sweeney stated that the \"Mega\" part of the name was dropped because they no longer wanted to pretend to be a big company, as was the original intention of the name when it was a one-man team. The follow-up game, \"Unreal Tournament\", shipped to critical acclaim the same year, at which point the studio had 13 employees. The company launched the Make Something Unreal competition in 2004, aiming to reward video game developers who create mods using the Unreal game engine. Tripwire Interactive won US$80,000 in cash and computer hardware prizes over the course of the contest in the first contest in 2004. \"Gears of War\" and console games (2006–2012). Around 2006, the personal computer video game market was struggling with copyright infringement in the form of software piracy, and it became difficult to make single-player games, elements that had been part of Epic\\'s business model to that point. The company decided to shift focus into developing console systems, a move which Sweeney called the start of the third major iteration of the company, \"Epic 3.0\". In 2006, Epic released the Xbox 360 shooter \"Gears of War\", which became a commercial success for the company, grossing about $ off a $ budget. A year later, the company released \"Unreal Tournament 3\" for PC and acquired a majority share in People Can Fly. In 2008, Epic Games released \"Gears of War 2\", selling over three million copies within the first month of its release. Epic Games released Epic Citadel on September 1, 2010 as a tech demo to demonstrate the Unreal Engine 3 running on Apple iOS, within Adobe Flash Player Stage3D and using HTML5 WebGL technologies. It was also released for Android on January 29, 2013. Epic Games worked on an iOS game, \"Infinity Blade\", which was released on December 9, 2010. The third game in the series, \"Gears of War 3\", came out in 2011. In 2011, Epic\\'s subsidiary Titan Studios was dissolved. At the 2011 Spike Video Game Awards, Epic Games announced their new game \"Fortnite\". In March 2012, Epic Games China became independent from Epic as Ying Pei Games (), developing \"Mercenary Ops\" at the time\",\" while Epic still retained a minority stake. In June 2012, Epic announced that it was opening up a new studio, Epic Baltimore, made up of members of 38 Studios\\' Big Huge Games. Epic Baltimore was renamed to Impossible Studios in August 2012. However, the studio ended up closing its doors in February 2013. Epic fully acquired People Can Fly in August 2012, rebranding them as Epic',\n",
       "  'https://en.wikipedia.org/wiki?curid=573199'),\n",
       " ('573199-4',\n",
       "  'Epic Games',\n",
       "  'Games Poland in November 2013 as they began work on \"Fortnite\" alongside Epic. Epic alongside People Can Fly made one last game in the \"Gears of War\" series that served as a prequel to the other games, \"\", which was released in 2013. At this point, Epic had considered developing a fourth main title for \"Gears of War\", but estimated that its budget would be at least $. Additionally, they had suggested the idea of a multiplayer-only version of \"Gears of War\" that featured improved versions of maps based on user feedback, similar to the concept behind \"Unreal Tournament\", but Microsoft rejected this idea. Epic recognized the troubles of being held to the business objectives of a publisher and began to shift the company again. Games as a service and Tencent shareholding (2012–2018). Coupled with their desire to move away from being beholden to a publisher, Epic Games observed that the video game industry was shifting to a games-as-a-service model (GaaS). Sweeney stated, \"There was an increasing realization that the old model wasn\\'t working anymore and that the new model was looking increasingly like the way to go.\" In an attempt to gain more GaaS experience, they made an agreement with Chinese Tencent, who had several games under their banner (including Riot Games\\' \"League of Legends\") operating successfully as games as a service. In exchange for Tencent\\'s help, Tencent acquired approximately 48.4% of Epic then issued share capital, equating to 40% of total Epic – inclusive of both stock and employee stock options, for $330 million in June 2012. Tencent Holdings has the right to nominate directors to the board of Epic Games and thus counts as an associate of the Group. However, Sweeney stated that Tencent otherwise has very little control on the creative output of Epic Games. Sweeney considered the partial acquisition by Tencent as the start of \"Epic 4.0\", the fourth major iteration of the company, allowing the company to be more agile in the video game marketplace. Around this point, Epic had about 200 employees. A number of high-profile staff left the company months after the Tencent deal was announced for various reasons. Some notable departures included: Epic continued its goal to deliver games as a service following these departures. \"Fortnite\" was to serve as their testbed for living games, but with the shifts in staff, and its engine from Unreal Engine 3 to 4, its release suffered some setbacks. Epic started additional projects; the free-to-play and community-developed \"Unreal Tournament\", first announced in 2014, and the free-to-play multiplayer online battle arena game \"Paragon\", launched in 2016 for Microsoft Windows and PlayStation 4. Epic also released a remastered version of \"Shadow Complex\" for newer consoles and computers in 2015, and their first foray into virtual reality with the release of \"Robo Recall\" for the Oculus Rift. The investment infusion from Tencent allowed Epic Games to relicense the Unreal Engine 4 engine in March 2015 to be free for all users to develop with, with Epic taking 5% royalties on games developed with the engine. In June 2015, Epic agreed',\n",
       "  'https://en.wikipedia.org/wiki?curid=573199'),\n",
       " ('573199-5',\n",
       "  'Epic Games',\n",
       "  'to allow Epic Games Poland\\'s departure from the company and sold its shares in the studio; the studio reverted to their former name, People Can Fly. The \"Bulletstorm\" IP was retained by People Can Fly who has since launched a remastered version called \"Bulletstorm: Full Clip Edition\" on April 7, 2017, published by Gearbox Software. \"Fortnite\" success (2018–present). By July 2017, \"Fortnite\" was finally in a state for public play. Epic launched the title through a paid early access then, with a full free-to-play release expected in 2018. Following on the popularity of \"PlayerUnknown\\'s Battlegrounds\", a battle royale game released earlier in 2017, Epic developed a variant of \"Fortnite\" called \"Fortnite Battle Royale\", which was released in September 2017 as a free-to-play title across computer, console, and mobile platforms. \"Fortnite Battle Royale\" quickly gained an audience, amassing over 125 million players by May 2018 with estimates of having earned over $ by July 2018 through microtransactions, including its battle pass system. Epic Games, which had been valued at around $ at the time of Tencent\\'s acquisition, was estimated to be worth $ in July 2018 due to \"Fortnite Battle Royale\", and expected to surpass $ by the end of 2018 with projected growth of the game. Player count continued to expand when Epic broke new ground by convincing Sony to change its stance on cross-platform play allowing players on any device to compete with each other in \"Fortnite Battle Royale\". \"Fortnite\" has drawn nearly 250 million players as of March 2019. \"Fortnite\"\\'s commercial success enabled Epic to make several changes to its other product offerings. In July 2018, it reduced the revenue cut that it took for assets sold on the Unreal Engine Marketplace from 30% to 12%. Epic launched the Epic Games Store digital storefront to compete with services like Steam and GOG.com, not only taking a 12% cut of revenue compared to the industry standard of 30%, but also eliminated the 5% cut for games using the Unreal engine sold via the storefront. However the company also refocused its development efforts to provide more support for Unreal and \"Fortnite\" by ending support for \"Paragon\" and \"Unreal Tournament\". The financial success of \"Fortnite\" brought additional investment into Epic Games. Epic Games was one of eleven companies selected to be part of the Disney Accelerator program in 2017, providing Epic equity investment and access to some of Disney\\'s executives, and potential opportunity to work with Disney in the future. Disney had selected both Epic and aXiomatic as potential leads in the growing esports arena. Epic\\'s has used its windfall to support its products. In January 2019, following a dispute between Improbable and Unity Technologies over changes to the acceptable uses of the Unity game engine, Epic announced it was partnering with Improbable to launch a $ fund to help bring developers they believe affected by these changes towards solutions that are more open and would have fewer service compatibilities. Epic launched a $ prize pool in February 2019 for \"Fortnite\"-related esports activities that it plans to run from 2019 onward. To expand',\n",
       "  'https://en.wikipedia.org/wiki?curid=573199'),\n",
       " ('573199-6',\n",
       "  'Epic Games',\n",
       "  'its esports initiatives, Epic Games hired Nate Nanzer from Blizzard Entertainment and their commissioner of the Overwatch League in May 2019. At the 2019 Game Developers Conference, Epic announced it was launching a $ MegaGrants initiative, allowing anyone to apply for up to $ in funding to support game development using the Unreal Engine or for any project, even if not directly games-related, that would benefit the Unreal Engine. One of the first major funded entities under this was the Blender Foundation in July 2019, having received $ from the MegaGrants funding, to help them to improve and professionalize their Blender tools for 3D art creation. Epic Games was given the British Academy of Film and Television Arts Special Award in June 2019 for its past and continuing developments for the Unreal Engine, a software which also earned it the Engineering Excellence Award from the Hollywood Professional Association. Epic announced in March 2020 it was establishing a new multi-platform publishing label, Epic Games Publishing. Alongside this, the label had announced three deals with developers Remedy Entertainment, Playdead and GenDesign in which Epic would fully fund development and publishing (including employee salaries, quality assurance, localization, and marketing) of one or more games from each studio, but leaving full creative control and IP rights to the studio, and sharing profits, following Epic\\'s recouping of its investment, 50/50 with the studio. The company expanded their publishing options in October 2021 with Spry Fox and Eyes Out. Unreal Engine 5 was announced on May 13, 2020, with plans for an early 2022 release. Alongside this announcement, Epic released its Epic Online Services, a free SDK toolset for online matchmaking and other similar cross-platform play support features based on \"Fortnite\". Epic further waived all Unreal license fees retroactively for games up through the first $ in revenue, regardless of how they were published, retroactively starting from January 1, 2020. \"Bloomberg\" reported that Epic was nearing a $ valuation in June 2020 once it had completed a new $ investing round from its previous investors and newcomings T. Rowe Price Group Inc. and Baillie Gifford. The company partnered with Christopher Nolan and Warner Bros. to acquire distribution rights for \"Inception\", \"Batman Begins\" and \"The Prestige\" as part of \"Movie Nite\" on Fortnite\\'s \"Party Royale\" island. The film live streams were based on a user\\'s country. Across July and August, Epic raised an additional $ in capital investment, bringing the company\\'s post-money equity valuation to $. This included a $ investment from Sony, approximately a 1.4% stake in the company. The deal continues the two companies\\' technology collaboration after they had worked together on the development of Unreal Engine 5, but does not commit Epic to any exclusivity to the Sony PlayStation platform. Sweeney said that Sony had started talking with Epic about investing following the demonstration of the Unreal Engine 5 in May 2020. Epic purchased Cary Towne Center in Cary, North Carolina, in January 2021, which had been scheduled to be closed and demolished after 2020, to be their new headquarters and campus, with the conversion to',\n",
       "  'https://en.wikipedia.org/wiki?curid=573199'),\n",
       " ('573199-7',\n",
       "  'Epic Games',\n",
       "  'be complete by 2024. All of the existing mall\\'s structure, with the exception of a section housing the Belk department store, was razed. However, after no further actions, the Town of Cary revoked Epic\\'s zoning application on December 6, 2024, declaring it \"inactive\". Epic unveiled its MetaHuman Creator project in February 2021. Based on the technology from 3Lateral, Cubic Motion, and Quixel, the MetaHuman Creator is a browser-based application to allow game developers to create realistic human characters within a short amount of time starting from various presets, and then can be exported as pre-made models and animation files ready for use in Unreal Engine. Epic announced a partnership with Cesium in March 2021 to bring its 3D geospatial data as a free add-on into the Unreal Engine. In April 2021, Epic completed another $ round of funding to support the company\\'s \"long-term vision for the metaverse\", putting the company\\'s valuation at $. The round of funding included another $ strategic investment from Sony. Sweeney remains the controlling shareholder with these additional investments. The Information reported that Epic Games was launching a new scripted entertainment division in October 2021, bringing on three former executives from Lucasfilm to manage it, with initial plans for a \"Fortnite\" film. In February 2022, Epic Games announced that at least half a billion accounts have been created on its platform. Epic released the initial beta version of RealityScan, a mobile app that uses the tools from Capturing Reality and Quixel, in April 2022. RealityScan allows users to create 3D models that can be imported into Sketchfab using photos taken by the user. Epic received another $1 billion each from Sony and from Kirkbi, the parent company of The Lego Group, in April 2022 for continued support of building out Epic\\'s metaverse. These investments gave Kirkbi 3% ownership and increased Sony\\'s to 4.9%. With these investments, Epic had an estimated valuation of $. Epic and Lego also announced their partnership to build a child-friendly space in the metaverse that same month. The company announced in September 2023 that it was laying off 870 employees, along with divesting in Bandcamp to Songtradr and spinning off SuperAwesome into its own company. Sweeney said this move was needed to rein in spending, and did not anticipate there would be further layoffs in the future. Mediatonic reported a significant number of layoffs from their team, but remained part of Epic. On February 7, 2024, Epic Games received a $1.5 billion investment from the Walt Disney Company. Pending regulatory approval, Disney will acquire a 9% stake. Disney plans to co-develop new games and an \"entertainment universe\" encompassing its properties with Epic. Part of this involved bringing more of the Disney properties to \"Fortnite\"; while \"Fortnite\" had already featured numerous cosmetics based on Marvel Comics and \"Star Wars\", Disney announced new plans to bring its classic animated characters and those from Pixar properties to the game. In July 2024, the Screen Actors Guild-American Federation of Television and Radio Artists (SAG-AFTRA), an actor labor union of which numerous video game voice actors are members of,',\n",
       "  'https://en.wikipedia.org/wiki?curid=573199'),\n",
       " ('573199-8',\n",
       "  'Epic Games',\n",
       "  'would initiate a labor strike against a number of video publishers, including Epic Games, over concerns about lack of A.I. protections related to not only video game actors, but also the use of A.I to replicate an actor’s voice, or create a digital replica of their likeness. Epic launched Fab, a unified marketplace for Unreal Engine Marketplace, Sketchfab, ArtStation Marketplace, and Quixel assets, on October 22, 2024. Following an investigation by the Department of Justice, the two Tencent board members stepped down, as they were also board members on Riot Games, which was seen as a violation of the Sherman Act by the department.',\n",
       "  'https://en.wikipedia.org/wiki?curid=573199'),\n",
       " ('573199-9',\n",
       "  'Epic Games',\n",
       "  'Acquisitions. In 2008, Epic acquired Utah based Chair Entertainment, developer of \"Undertow\". Summer 2009 saw the launch of Chair\\'s \"Shadow Complex\", an adventure game inspired by the \"Metroid\" series. Epic announced in October 2018 that it had acquired $ in investment from seven firms: KKR, ICONIQ Capital, Smash Ventures, aXiomatic, Vulcan Capital, Kleiner Perkins, and Lightspeed Venture Partners. The firms join Tencent, Disney, and Endeavor as minority shareholders in Epic. With the investment, Epic Games was estimated to have a nearly $ valuation in October 2018. Besides expanding support for \"Fortnite\" and the Epic Games Store, these investments allowed Epic to acquire additional firms. In January 2018, it was announced that Epic had acquired Cloudgine, a developer of cloud-based gaming software. The company also announced the acquisition of Kamu, a firm that offered anti-cheat software called Easy Anti-Cheat, in October 2018. A year later, in January 2019, Epic acquired 3Lateral and Agog Labs. 3Lateral is known for its \"digital human\" creations, using a combination of digital technology, motion capture, and other tools to create photo-realistic human subjects in real-time. Epic plans to add some of 3Lateral\\'s features to the Unreal Engine. Agog had developed SkookumScript, a platform for scripting events in video games; on the announcement of this acquisition, Agog stated they will stop the development of SkookumScript to work more on Unreal Engine scripting support. Epic acquired Psyonix, the developer of \"Rocket League\", in May 2019. Epic and Psyonix have had a past history, as Psyonix was originally founded a few miles from Epic\\'s headquarters and had contributed to Epic\\'s \"Unreal Tournament\". Besides ongoing support for \"Rocket League\", Psyonix developed an arcade-style car racing game inside of \"Fortnite\", named \"Rocket Racing\", which was added in December 2023. Epic acquired the Twinmotion visualization tool used in architectural design in May 2019 from Abvent, and which they plan to expand and incorporate into their Unreal Engine offerings. Epic acquired Life on Air, the developers behind \"Houseparty\", a social networking service, in June 2019. The monetary terms of the acquisition were not disclosed. Epic later shuttered Houseparty\\'s app in October 2021, though the team behind it was continuing to develop social apps for Epic\\'s platforms. In November 2019, Epic acquired Quixel, the world\\'s largest photogrammetry asset library which makes 3D models of objects based on real-world high-definition photography. Epic plans to open Quixel\\'s existing library of models to users of Unreal Engine, while the Quixel staff will continue to build out its assets within Epic. The company acquired Cubic Motion, a studio that provides highly detailed digital facial animations for both films and video games, in March 2020. Epic acquired SuperAwesome, a firm that has developed services to support children-safe games and services around games, in September 2020, as to incorporate these elements more into Epic\\'s portfolio and to offer to other developers, particularly for games built around Epic\\'s vision of metaverse games. Epic acquired the digital facial animation firm Hyprsense in November 2020. In January 2021, Epic acquired RAD Game Tools, a company that makes a variety of middleware solutions for video game',\n",
       "  'https://en.wikipedia.org/wiki?curid=573199')]"
      ]
     },
     "execution_count": 49,
     "metadata": {},
     "output_type": "execute_result"
    }
   ],
   "source": [
    "rows"
   ]
  },
  {
   "cell_type": "code",
   "execution_count": 1,
   "id": "8424e80e",
   "metadata": {},
   "outputs": [
    {
     "name": "stdout",
     "output_type": "stream",
     "text": [
      "Index size: 3201821\n"
     ]
    }
   ],
   "source": [
    "import faiss\n",
    "import numpy as np\n",
    "\n",
    "# 1. Load FAISS index\n",
    "index = faiss.read_index(\"/Tmp/lvpoellhuber/models/longtriever_og/hier_ablation_doc-start_sep/default.flat.faiss\")\n",
    "\n",
    "# 2. Inspect number of vectors\n",
    "print(\"Index size:\", index.ntotal)\n",
    "\n"
   ]
  },
  {
   "cell_type": "code",
   "execution_count": 53,
   "id": "67b099ef",
   "metadata": {},
   "outputs": [],
   "source": [
    "id_to_row = {}\n",
    "with open(\"/Tmp/lvpoellhuber/models/longtriever_og/hier_ablation_doc-start_sep/default.flat.tsv\", \"r\", encoding=\"utf-8\") as f:\n",
    "    for row, line in enumerate(f):\n",
    "        docid, *_ = line.strip().split(\"\\t\", 1)\n",
    "        id_to_row[docid] = row"
   ]
  },
  {
   "cell_type": "code",
   "execution_count": 59,
   "id": "bab246bf",
   "metadata": {},
   "outputs": [
    {
     "data": {
      "text/plain": [
       "array([-2.23014280e-01,  6.20490253e-01,  1.66665614e-01, -2.70371940e-02,\n",
       "        3.64657462e-01,  3.78028214e-01,  7.25720286e-01,  1.31429628e-01,\n",
       "       -5.36829591e-01, -4.34825748e-01, -2.71385759e-01,  3.65433216e-01,\n",
       "       -5.71128964e-01,  4.32845235e-01,  8.63932729e-01,  1.78465736e+00,\n",
       "        9.64794576e-01,  1.24612212e-01,  1.82902634e-01, -9.46981847e-01,\n",
       "        1.16889805e-01,  2.48504907e-01,  1.79586351e-01, -7.24688265e-03,\n",
       "        8.63356054e-01,  4.30272520e-01,  3.10706019e-01,  4.80593406e-02,\n",
       "       -9.47383583e-01,  8.70712996e-02,  2.73059040e-01,  1.89184606e-01,\n",
       "        6.28192067e-01,  8.24184269e-02, -9.84563768e-01,  1.00192115e-01,\n",
       "       -6.80273116e-01, -1.15406327e-01,  1.51128978e-01, -1.03684604e+00,\n",
       "       -2.63928086e-01, -4.67673451e-01, -7.71329582e-01,  4.08610441e-02,\n",
       "        4.91897106e-01, -3.42191100e-01, -4.43251967e-01,  4.15993661e-01,\n",
       "       -4.91745144e-01, -4.91936475e-01, -9.77548480e-01,  7.67214954e-01,\n",
       "        1.57243097e+00,  3.20290178e-01, -2.12548524e-01,  7.31497526e-01,\n",
       "       -2.81221598e-01, -2.58113027e-01, -1.80059850e-01, -5.24474025e-01,\n",
       "        1.03086090e+00,  2.80806899e-01, -8.30370039e-02, -5.86748030e-03,\n",
       "        2.27211878e-01,  3.20000082e-01, -1.27106756e-01,  8.12376022e-01,\n",
       "       -1.15407062e+00, -5.34671605e-01,  6.57599419e-02,  2.58305043e-01,\n",
       "       -3.40202391e-01, -1.25134155e-01,  2.45016694e-01, -3.82852077e-01,\n",
       "       -3.88297796e-01,  1.18961945e-01,  4.28942949e-01,  3.78996253e-01,\n",
       "        4.82803918e-02, -3.93425316e-01,  5.28456330e-01,  4.57167566e-01,\n",
       "       -5.45121789e-01, -1.07340145e+00,  3.34325612e-01,  1.60781533e-01,\n",
       "       -7.39365220e-01,  3.56529504e-01, -3.07788491e-01, -1.14556587e+00,\n",
       "        8.45461935e-02, -3.58365178e-01,  1.55111238e-01, -2.67760754e-01,\n",
       "        3.74705970e-01, -9.83151942e-02,  1.46175072e-01, -1.89893171e-02,\n",
       "       -5.06426871e-01, -4.56689924e-01,  1.50973484e-01,  2.15594620e-01,\n",
       "       -1.39098287e+00,  4.76265043e-01, -5.82739152e-02, -2.29205593e-01,\n",
       "       -6.45959616e-01, -5.02295867e-02, -4.53052223e-01,  2.69324034e-01,\n",
       "       -5.51659405e-01, -8.43304157e-01,  3.30117136e-01,  4.78122175e-01,\n",
       "        4.61701900e-02, -5.13481975e-01, -4.13744956e-01, -3.19417626e-01,\n",
       "        9.20521617e-01, -2.28652835e-01,  6.44868433e-01, -6.39818758e-02,\n",
       "        4.47418809e-01, -5.40677346e-02,  7.56728426e-02,  3.63722205e-01,\n",
       "       -8.01690221e-01, -1.28939047e-01,  3.21375012e-01,  9.62176144e-01,\n",
       "       -2.29388148e-01, -2.46424839e-01, -5.12107074e-01, -7.49328613e-01,\n",
       "        3.39781702e-01,  2.36176074e-01,  2.87472874e-01, -1.02622576e-01,\n",
       "       -1.68392107e-01,  4.47099656e-01, -8.82461429e-01,  2.33797520e-01,\n",
       "        3.13333035e-01, -2.33035296e-01,  1.16704039e-01, -7.61712968e-01,\n",
       "       -1.11708546e+00, -7.26598548e-03, -4.59465124e-02,  7.57429779e-01,\n",
       "       -3.38506728e-01, -2.29750216e-01, -2.71877587e-01,  5.14302909e-01,\n",
       "       -7.47318519e-03,  2.02584743e-01,  7.32503593e-01, -7.97981471e-02,\n",
       "        1.97417498e-01,  4.59814876e-01, -3.00922513e-01, -2.58094460e-01,\n",
       "        1.04540087e-01,  3.13366681e-01,  3.66964549e-01,  3.21120083e-01,\n",
       "       -2.29041696e-01,  4.20094728e-02, -1.09914728e-01, -5.01603007e-01,\n",
       "        4.04331356e-01,  2.35602036e-02, -9.60535407e-01,  6.18719459e-01,\n",
       "        2.57689625e-01,  6.36219932e-03,  7.83513427e-01, -1.75488696e-01,\n",
       "       -1.31989396e+00,  2.98382610e-01, -5.77206612e-02, -2.13526487e-01,\n",
       "        2.71993905e-01, -2.82074183e-01,  5.42503953e-01,  1.35262027e-01,\n",
       "        4.76712972e-01,  2.11898685e-01, -1.17616975e+00, -3.69713515e-01,\n",
       "        7.90262997e-01, -1.65068269e-01,  7.34483540e-01, -1.29884988e-01,\n",
       "       -1.54126547e-02,  9.80038285e-01,  1.06221938e+00,  4.71535653e-01,\n",
       "       -5.56540012e-01,  3.60598952e-01,  7.34930709e-02, -1.30480587e-01,\n",
       "       -7.49481916e-01,  7.04266950e-02, -2.31480077e-01,  4.85246390e-01,\n",
       "        1.58267561e-03,  1.66687906e-01, -8.06752563e-01, -6.83872551e-02,\n",
       "        1.99947059e-01,  2.27848813e-01, -1.15136437e-01, -2.30576769e-01,\n",
       "        1.88232437e-01, -5.32702982e-01,  2.68612802e-01, -1.32081166e-01,\n",
       "        1.47344843e-01, -4.09375131e-01, -1.66952953e-01, -5.68367124e-01,\n",
       "       -5.55611908e-01,  1.35192096e+00,  6.78009629e-01, -6.25016510e-01,\n",
       "        1.70137048e-01, -6.38561845e-01, -7.16746271e-01, -8.75058547e-02,\n",
       "        9.83597159e-01, -5.86228013e-01, -4.80823040e-01,  8.44616234e-01,\n",
       "        8.07687417e-02, -6.94633484e-01,  7.29227424e-01, -1.26370120e+00,\n",
       "        4.95737165e-01,  5.24908960e-01, -3.82401258e-01,  9.83895421e-01,\n",
       "       -3.19637984e-01, -1.10087700e-01,  1.15518942e-01,  2.13303328e-01,\n",
       "       -5.68434358e-01,  1.59352034e-01, -4.55598414e-01,  1.07103717e+00,\n",
       "        2.45448411e-01, -3.64254653e-01,  2.47407272e-01, -3.09586197e-01,\n",
       "       -9.25321877e-01, -1.01273596e-01,  8.06600392e-01,  6.77332401e-01,\n",
       "       -2.34542906e-01, -2.78909594e-01,  4.88533258e-01,  3.45695525e-01,\n",
       "       -1.91682577e-01, -4.00392115e-01,  2.96667457e-01, -2.28851795e-01,\n",
       "        8.20903718e-01,  3.24717283e-01,  2.01159313e-01,  2.22307354e-01,\n",
       "       -6.22406542e-01,  9.87841785e-02, -1.28887013e-01,  3.56725365e-01,\n",
       "        5.94372451e-01,  2.05200389e-01, -6.02117300e-01, -7.51874030e-01,\n",
       "       -5.12659729e-01,  8.57558012e-01, -6.24974430e-01, -3.07900250e-01,\n",
       "       -2.45364934e-01, -3.39787565e-02,  1.62464261e-01, -7.39510536e-01,\n",
       "        2.70559173e-02, -3.12074840e-01, -3.24790746e-01,  5.04863024e-01,\n",
       "       -1.52571589e-01,  1.29654845e-02,  1.84132606e-01, -7.46413320e-02,\n",
       "       -2.34527498e-01,  1.88415468e-01,  3.28421503e-01,  2.51820058e-01,\n",
       "       -5.20546019e-01,  4.81248170e-01, -4.79586422e-01,  5.73248491e-02,\n",
       "        4.02747363e-01, -1.66202873e-01, -7.02667534e-01,  4.97014709e-02,\n",
       "       -6.10253954e+00, -5.46947308e-02, -4.69858199e-01, -6.92381620e-01,\n",
       "       -3.57604295e-01,  3.08750689e-01,  1.00322545e-01, -2.27788880e-01,\n",
       "       -1.71462223e-01,  1.14139482e-01, -3.20581645e-01, -2.67934442e-01,\n",
       "        3.61985639e-02,  5.18806577e-01,  5.86652339e-01, -5.71511507e-01,\n",
       "       -2.26840317e-01, -7.30323851e-01, -4.22286659e-01,  5.09418547e-01,\n",
       "        1.31241515e-01,  2.72034019e-01, -1.54114485e-01, -5.00798345e-01,\n",
       "        5.91391385e-01,  1.62274033e-01, -2.57438719e-01,  1.06023796e-01,\n",
       "       -6.83972955e-01,  6.99477047e-02,  2.33538240e-01, -5.91333568e-01,\n",
       "        2.61475354e-01,  3.35926503e-01,  6.80948436e-01, -6.17383599e-01,\n",
       "        7.32384622e-01, -4.32829946e-01,  4.65200663e-01, -2.08039552e-01,\n",
       "       -5.75102530e-02, -1.19525552e+00, -6.13015115e-01, -3.81589651e-01,\n",
       "        7.89468467e-01, -5.24389803e-01, -8.26621473e-01, -4.73748028e-01,\n",
       "       -1.80857405e-01,  7.06144929e-01, -7.73773134e-01, -1.36164561e-01,\n",
       "        3.57391924e-01, -6.60673678e-01,  8.96659255e-01,  1.57199860e-01,\n",
       "        7.96580464e-02,  9.00840461e-02, -8.82824898e-01,  5.80369115e-01,\n",
       "        2.33079642e-01, -5.38557649e-01, -9.19337332e-01, -8.75982046e-01,\n",
       "       -7.58248121e-02, -3.63656402e-01, -1.13572717e+00, -1.57742903e-01,\n",
       "        2.72320032e-01,  5.61750829e-01, -8.19233060e-01,  2.85825938e-01,\n",
       "        5.34526557e-02,  2.43161127e-01,  1.85630560e-01,  1.55832872e-01,\n",
       "        3.85890663e-01, -1.38007581e-01, -2.55812109e-01,  1.52429238e-01,\n",
       "       -5.25031030e-01, -7.34103620e-01,  6.56111166e-02,  6.11437321e-01,\n",
       "        5.57135105e-01, -3.73668000e-02, -1.22761866e-02, -2.59665757e-01,\n",
       "       -3.80257130e-01, -3.45203616e-02,  1.37511742e+00, -3.17079872e-01,\n",
       "       -5.51774539e-02,  3.02902102e-01,  1.85262546e-01,  3.07865053e-01,\n",
       "       -6.73561215e-01, -2.50357002e-01,  5.15703499e-01, -1.52821079e-01,\n",
       "        9.54532623e-01, -4.98994738e-01,  6.68553486e-02,  3.48178148e-01,\n",
       "       -1.83766156e-01, -3.39422643e-01, -7.84546733e-01,  5.05967140e-01,\n",
       "        6.42979443e-01, -8.32360089e-02,  2.65280664e-01,  8.86704564e-01,\n",
       "       -3.76536623e-02, -2.57928461e-01,  6.13949187e-02, -4.64804381e-01,\n",
       "        4.17385519e-01,  4.88879770e-01,  6.61606133e-01, -7.69545376e-01,\n",
       "        7.38276960e-03,  2.38957703e-01, -6.99920654e-01, -2.93337762e-01,\n",
       "       -9.24609840e-01,  7.86166549e-01,  8.58307332e-02, -1.99072175e-02,\n",
       "        4.93442088e-01,  4.89225313e-02,  5.29991031e-01,  1.67939201e-01,\n",
       "        4.59773362e-01, -1.27587289e-01,  7.34548390e-01, -1.05027877e-01,\n",
       "        3.92971709e-02, -7.23103583e-01, -7.15512276e-01,  1.16797961e-01,\n",
       "        2.49414638e-01, -8.58396068e-02,  2.27890015e-02, -5.20830713e-02,\n",
       "        8.89065623e-01,  9.49889958e-01,  4.30032700e-01,  2.14988545e-01,\n",
       "        6.87954351e-02,  5.52957237e-01, -6.49182200e-01, -9.46457013e-02,\n",
       "        3.33113372e-01, -6.41532660e-01, -5.47956765e-01,  2.44536042e-01,\n",
       "        2.14750525e-02, -2.47435153e-01,  1.73871905e-01, -1.36523902e-01,\n",
       "        4.93175983e-01, -4.45161581e-01, -4.98256207e-01, -3.56591791e-01,\n",
       "       -1.01024240e-01, -1.81395896e-02, -3.89910370e-01,  2.35461131e-01,\n",
       "        2.99488664e-01,  4.38205391e-01,  4.64001745e-02, -1.95126519e-01,\n",
       "       -1.14114292e-01,  9.95891392e-01, -2.65592486e-01,  3.23109657e-01,\n",
       "       -1.05518949e+00,  4.23174389e-02, -1.52344286e-01,  1.06952357e+00,\n",
       "       -4.23811898e-02, -2.39961430e-01, -2.27316350e-01,  6.49889261e-02,\n",
       "        7.66907871e-01, -2.11326778e-01, -2.26738557e-01,  1.00063577e-01,\n",
       "       -6.06579125e-01,  1.23256430e-01, -1.70337502e-02,  1.31749481e-01,\n",
       "        2.47003049e-01,  3.98503333e-01, -6.55702889e-01, -1.43305469e+00,\n",
       "       -7.87986815e-01,  8.29340875e-01, -1.72475606e-01,  1.82270501e-02,\n",
       "       -4.04541522e-01, -3.92259628e-01, -2.62725025e-01, -2.01839477e-01,\n",
       "        4.15703148e-01, -1.03824580e+00,  4.75941300e-01, -4.16451573e-01,\n",
       "        4.61381376e-01,  2.77528197e-01, -5.66876829e-01, -5.94365597e-01,\n",
       "       -4.01612669e-01, -1.20022058e-01,  7.80420840e-01, -5.34588754e-01,\n",
       "        5.33772528e-01, -5.38104355e-01,  2.30241701e-01, -6.24081850e-01,\n",
       "        9.72992480e-02,  1.09668747e-01, -3.81375641e-01,  3.16076249e-01,\n",
       "       -2.46862561e-01, -2.51284212e-01, -8.32202956e-02, -6.55313075e-01,\n",
       "        3.27296667e-02,  2.43451260e-03, -1.69363339e-02, -4.22454774e-01,\n",
       "        3.93744648e-01,  1.00764968e-01,  3.29550862e-01, -7.31791198e-01,\n",
       "       -3.94685604e-02, -4.02160674e-01, -1.81372508e-01,  4.55692887e-01,\n",
       "        4.91585463e-01, -2.28529982e-02, -3.11198801e-01, -8.40832293e-01,\n",
       "       -5.42732626e-02, -2.75822043e-01,  2.74693608e-01, -1.07582104e+00,\n",
       "        4.04866666e-01,  1.16026580e+00, -6.33792765e-03, -4.82134342e-01,\n",
       "       -4.79447156e-01, -8.75202194e-02,  8.03282976e-01, -3.50852400e-01,\n",
       "       -5.00439346e-01, -3.06714892e-01,  7.35167712e-02,  4.84269619e-01,\n",
       "        6.67934954e-01,  4.13873699e-03, -4.00864720e-01,  6.34132251e-02,\n",
       "        5.55303276e-01,  5.88503242e-01,  1.51120603e-01, -4.14553523e-01,\n",
       "        4.88120079e-01, -4.10801053e-01,  4.22382891e-01, -9.15324092e-01,\n",
       "       -6.12040997e-01,  4.55006026e-02, -1.46331221e-01,  2.40548685e-01,\n",
       "       -4.52459514e-01, -5.05495131e-01,  7.04665959e-01, -3.49116415e-01,\n",
       "       -5.37433207e-01, -5.68051822e-02, -2.26130858e-01,  3.93285125e-01,\n",
       "        9.82983708e-01, -8.15562189e-01,  1.55628741e-01,  2.20886245e-01,\n",
       "       -3.03752512e-01,  1.72361776e-01,  1.15377128e-01,  5.23278117e-01,\n",
       "       -5.82972765e-01,  3.62984061e-01, -3.49348575e-01,  5.32725714e-02,\n",
       "        8.88356447e-01,  6.65353298e-01,  2.97180582e-02,  8.67522001e-01,\n",
       "       -1.75961871e-02, -4.12554234e-01,  6.70431733e-01, -5.98794281e-01,\n",
       "       -3.17269802e-01,  9.60714743e-02,  3.55155408e-01, -2.55513996e-01,\n",
       "       -7.20988438e-02,  2.41588548e-01,  1.54489011e-01, -2.11010218e-01,\n",
       "        6.65782690e-01,  1.94918662e-01,  1.93304440e-03, -4.87877518e-01,\n",
       "        1.93244275e-02,  2.68423855e-01,  5.50059378e-01,  5.99784404e-02,\n",
       "        6.61149442e-01, -4.62843180e-01,  7.29265690e-01,  5.40332496e-01,\n",
       "        2.90306360e-02,  7.95109928e-01, -3.69133949e-01, -1.61954835e-02,\n",
       "        3.45570713e-01,  3.47325653e-01,  1.12531126e+00, -2.22611755e-01,\n",
       "       -5.17606199e-01,  6.29525602e-01, -8.02726209e-01, -3.50352377e-01,\n",
       "        1.43879250e-01, -8.61447632e-01,  3.10432732e-01,  3.44362497e-01,\n",
       "        5.65002024e-01, -5.41094691e-02,  1.85630158e-01,  6.71941221e-01,\n",
       "       -1.29710615e-01,  4.16539878e-01,  1.64843708e-01, -3.25265706e-01,\n",
       "        2.08142117e-01,  6.68851018e-01, -1.69363394e-02,  4.05329347e-01,\n",
       "        1.98897853e-01,  1.42564908e-01,  5.88910758e-01, -3.20410818e-01,\n",
       "        4.89894927e-01,  7.59772062e-02, -6.64587140e-01,  6.48449540e-01,\n",
       "        1.62882313e-01,  8.69570673e-01,  9.60812211e-01, -2.82364041e-01,\n",
       "       -4.83024389e-01, -7.87883028e-02,  7.63910532e-01, -2.92857587e-01,\n",
       "        8.08871686e-02, -1.37882143e-01,  2.17966720e-01,  2.44895920e-01,\n",
       "       -5.41049004e-01, -4.17626560e-01,  8.51811767e-02, -2.53646344e-01,\n",
       "        4.82245386e-01, -2.56430618e-02,  4.36742932e-01,  1.94304675e-01,\n",
       "       -4.77019519e-01, -2.26265699e-01, -6.90931559e-01, -1.29974350e-01,\n",
       "       -5.94921708e-01, -3.78608733e-01,  9.27813470e-01,  1.85450628e-01,\n",
       "       -4.94840950e-01, -8.99614915e-02,  1.21721402e-01, -2.49009222e-01,\n",
       "        8.14612150e-01, -2.05907356e-02, -1.07555461e+00, -2.67279297e-01,\n",
       "        1.22333551e-02,  5.15370309e-01,  2.21212864e-01,  8.91155839e-01,\n",
       "        2.13375568e-01,  2.69314945e-01, -4.74412888e-01, -5.46231680e-02,\n",
       "       -3.05508703e-01,  3.45557302e-01, -4.58358377e-02, -3.00757319e-01,\n",
       "       -8.56457531e-01,  2.04955339e-01,  2.87205189e-01, -6.57850504e-02,\n",
       "        3.18428069e-01,  3.41006219e-01, -1.15700528e-01, -1.47479668e-01,\n",
       "        9.75575745e-01, -8.28249693e-01,  1.44377470e-01, -9.41716790e-01,\n",
       "       -2.11958420e-02,  4.75224167e-01,  1.38439864e-01, -9.82517675e-02,\n",
       "       -8.11785221e-01,  1.18951321e-01, -1.05850205e-01,  3.97527106e-02,\n",
       "       -4.71639752e-01,  4.56895262e-01, -2.72116303e-01,  1.07519096e-02,\n",
       "       -2.31589407e-01,  1.81334779e-01, -9.17424977e-01, -2.49608904e-01,\n",
       "        3.22398722e-01,  3.59673172e-01, -4.52858269e-01, -2.70730495e-01,\n",
       "       -1.57638580e-01,  2.70873636e-01, -4.41112697e-01,  2.85365343e-01,\n",
       "       -1.19940706e-01,  2.12668240e-01, -5.10575235e-01,  5.04370593e-02,\n",
       "       -3.09757382e-01,  2.24077165e-01,  6.51048571e-02,  1.66918054e-01,\n",
       "        5.25678813e-01, -1.66300312e-01,  4.25718606e-01, -2.33135387e-01,\n",
       "        2.94937547e-02, -2.57993758e-01,  7.66306594e-02,  8.63877535e-01],\n",
       "      dtype=float32)"
      ]
     },
     "execution_count": 59,
     "metadata": {},
     "output_type": "execute_result"
    }
   ],
   "source": [
    "# Assume id_to_row is already built from default.flat.tsv\n",
    "row_id = id_to_row[\"D1660526\"]\n",
    "\n",
    "# Directly reconstruct the vector\n",
    "vec = index.reconstruct(row_id)  # returns a NumPy array\n",
    "vec"
   ]
  },
  {
   "cell_type": "code",
   "execution_count": null,
   "id": "4667453c",
   "metadata": {},
   "outputs": [
    {
     "name": "stderr",
     "output_type": "stream",
     "text": [
      "100%|██████████| 139/139 [00:51<00:00,  2.69it/s]\n"
     ]
    },
    {
     "data": {
      "text/plain": [
       "7313011"
      ]
     },
     "execution_count": 30,
     "metadata": {},
     "output_type": "execute_result"
    }
   ],
   "source": [
    "import os\n",
    "import ir_datasets\n",
    "from tqdm import tqdm\n",
    "import json\n",
    "import re\n",
    "import pandas as pd\n",
    "\n",
    "dataset = ir_datasets.load(f\"beir/hotpotqa/train\")\n",
    "train_qrels = list(dataset.qrels_iter())\n",
    "relevant_doc_ids = set(qrel.doc_id for qrel in train_qrels)\n",
    "download_ir = \"/Tmp/lvpoellhuber/datasets/vault/wikipedia/downloads\"\n",
    "\n",
    "total_nb_sentences = 0\n",
    "nb_sentences = []\n",
    "nb_words = []\n",
    "for root, _, files in tqdm(os.walk(download_ir), total=len(os.listdir(download_ir))):\n",
    "    for filename in files:\n",
    "        if filename.startswith(\"wiki_\"):\n",
    "            filepath = os.path.join(root, filename)\n",
    "\n",
    "            # 3. Read file line-by-line (streaming, not loading whole file in memory)\n",
    "            with open(filepath, \"r\", encoding=\"utf-8\") as f:\n",
    "                for line in f:\n",
    "                    article = json.loads(line)\n",
    "                    if article[\"id\"] in relevant_doc_ids:\n",
    "                        sentences = re.split(r'(?<=[.!?])\\s+', article[\"text\"].strip())\n",
    "                        total_nb_sentences += len(sentences)\n",
    "                        nb_sentences.append(len(sentences))\n",
    "                        nb_words.append(len(article[\"text\"].strip().split()))\n",
    "\n",
    "sentence_df = pd.Series(nb_sentences)\n",
    "word_df = pd.Series(nb_words)\n",
    "total_nb_sentences"
   ]
  },
  {
   "cell_type": "code",
   "execution_count": 28,
   "id": "efc26e5f",
   "metadata": {},
   "outputs": [
    {
     "data": {
      "application/vnd.microsoft.datawrangler.viewer.v0+json": {
       "columns": [
        {
         "name": "index",
         "rawType": "object",
         "type": "string"
        },
        {
         "name": "0",
         "rawType": "float64",
         "type": "float"
        }
       ],
       "ref": "2dab1bce-be3b-450e-82d9-267eb60c187f",
       "rows": [
        [
         "count",
         "88142.0"
        ],
        [
         "mean",
         "82.9685167116698"
        ],
        [
         "std",
         "109.05907970150555"
        ],
        [
         "min",
         "1.0"
        ],
        [
         "25%",
         "18.0"
        ],
        [
         "50%",
         "43.0"
        ],
        [
         "75%",
         "99.0"
        ],
        [
         "max",
         "1277.0"
        ]
       ],
       "shape": {
        "columns": 1,
        "rows": 8
       }
      },
      "text/plain": [
       "count    88142.000000\n",
       "mean        82.968517\n",
       "std        109.059080\n",
       "min          1.000000\n",
       "25%         18.000000\n",
       "50%         43.000000\n",
       "75%         99.000000\n",
       "max       1277.000000\n",
       "dtype: float64"
      ]
     },
     "execution_count": 28,
     "metadata": {},
     "output_type": "execute_result"
    }
   ],
   "source": [
    "sentence_df.describe()"
   ]
  },
  {
   "cell_type": "code",
   "execution_count": 31,
   "id": "1b0d7ec1",
   "metadata": {},
   "outputs": [
    {
     "data": {
      "application/vnd.microsoft.datawrangler.viewer.v0+json": {
       "columns": [
        {
         "name": "index",
         "rawType": "object",
         "type": "string"
        },
        {
         "name": "0",
         "rawType": "float64",
         "type": "float"
        }
       ],
       "ref": "7deb9725-36b2-46f1-a79d-65afe5975ab2",
       "rows": [
        [
         "count",
         "88142.0"
        ],
        [
         "mean",
         "1632.112125887772"
        ],
        [
         "std",
         "2307.7715094720747"
        ],
        [
         "min",
         "5.0"
        ],
        [
         "25%",
         "295.0"
        ],
        [
         "50%",
         "768.0"
        ],
        [
         "75%",
         "1927.0"
        ],
        [
         "max",
         "28332.0"
        ]
       ],
       "shape": {
        "columns": 1,
        "rows": 8
       }
      },
      "text/plain": [
       "count    88142.000000\n",
       "mean      1632.112126\n",
       "std       2307.771509\n",
       "min          5.000000\n",
       "25%        295.000000\n",
       "50%        768.000000\n",
       "75%       1927.000000\n",
       "max      28332.000000\n",
       "dtype: float64"
      ]
     },
     "execution_count": 31,
     "metadata": {},
     "output_type": "execute_result"
    }
   ],
   "source": [
    "word_df.describe()"
   ]
  },
  {
   "cell_type": "code",
   "execution_count": 32,
   "id": "47158b50",
   "metadata": {},
   "outputs": [
    {
     "data": {
      "application/vnd.microsoft.datawrangler.viewer.v0+json": {
       "columns": [
        {
         "name": "index",
         "rawType": "int64",
         "type": "integer"
        },
        {
         "name": "0",
         "rawType": "int64",
         "type": "integer"
        }
       ],
       "ref": "59ea838d-a60e-4f9c-827f-704a56e73c57",
       "rows": [
        [
         "0",
         "6600"
        ],
        [
         "29",
         "4301"
        ],
        [
         "41",
         "8758"
        ],
        [
         "52",
         "10715"
        ],
        [
         "74",
         "13186"
        ],
        [
         "75",
         "6435"
        ],
        [
         "78",
         "10744"
        ],
        [
         "83",
         "4207"
        ],
        [
         "88",
         "8897"
        ],
        [
         "95",
         "7298"
        ],
        [
         "96",
         "6258"
        ],
        [
         "102",
         "9096"
        ],
        [
         "105",
         "6826"
        ],
        [
         "107",
         "5555"
        ],
        [
         "120",
         "6564"
        ],
        [
         "122",
         "7299"
        ],
        [
         "132",
         "8432"
        ],
        [
         "133",
         "11987"
        ],
        [
         "135",
         "4342"
        ],
        [
         "144",
         "4103"
        ],
        [
         "146",
         "4931"
        ],
        [
         "160",
         "4585"
        ],
        [
         "177",
         "5055"
        ],
        [
         "179",
         "10656"
        ],
        [
         "183",
         "13128"
        ],
        [
         "186",
         "4398"
        ],
        [
         "210",
         "4840"
        ],
        [
         "213",
         "10235"
        ],
        [
         "214",
         "9232"
        ],
        [
         "221",
         "8561"
        ],
        [
         "222",
         "4894"
        ],
        [
         "226",
         "5079"
        ],
        [
         "229",
         "4182"
        ],
        [
         "231",
         "4464"
        ],
        [
         "233",
         "4143"
        ],
        [
         "235",
         "12423"
        ],
        [
         "240",
         "10130"
        ],
        [
         "250",
         "4619"
        ],
        [
         "251",
         "6523"
        ],
        [
         "255",
         "4438"
        ],
        [
         "267",
         "5593"
        ],
        [
         "293",
         "4367"
        ],
        [
         "314",
         "6237"
        ],
        [
         "319",
         "5716"
        ],
        [
         "322",
         "6018"
        ],
        [
         "324",
         "9570"
        ],
        [
         "326",
         "7586"
        ],
        [
         "338",
         "6863"
        ],
        [
         "357",
         "7515"
        ],
        [
         "359",
         "7280"
        ]
       ],
       "shape": {
        "columns": 1,
        "rows": 9274
       }
      },
      "text/plain": [
       "0         6600\n",
       "29        4301\n",
       "41        8758\n",
       "52       10715\n",
       "74       13186\n",
       "         ...  \n",
       "88087     8448\n",
       "88092     4297\n",
       "88105     5215\n",
       "88131     4971\n",
       "88133    13816\n",
       "Length: 9274, dtype: int64"
      ]
     },
     "execution_count": 32,
     "metadata": {},
     "output_type": "execute_result"
    }
   ],
   "source": [
    "word_df[word_df>4096]"
   ]
  },
  {
   "cell_type": "code",
   "execution_count": 23,
   "id": "23ca6612",
   "metadata": {},
   "outputs": [
    {
     "data": {
      "text/plain": [
       "6.558767651283442e-07"
      ]
     },
     "execution_count": 23,
     "metadata": {},
     "output_type": "execute_result"
    }
   ],
   "source": [
    "# avg_vector_storage = 2185439277/3201821 # In bytes\n",
    "avg_vector_storage = 2.1/3201821 # In GB\n",
    "avg_vector_storage "
   ]
  },
  {
   "cell_type": "code",
   "execution_count": 24,
   "id": "0146dd4b",
   "metadata": {},
   "outputs": [
    {
     "data": {
      "text/plain": [
       "4.7964339980279975"
      ]
     },
     "execution_count": 24,
     "metadata": {},
     "output_type": "execute_result"
    }
   ],
   "source": [
    "estimated_total_storage = total_nb_sentences * avg_vector_storage\n",
    "estimated_total_storage"
   ]
  },
  {
   "cell_type": "code",
   "execution_count": 9,
   "id": "b255b2b2",
   "metadata": {},
   "outputs": [],
   "source": [
    "import requests\n",
    "trec_url = \"https://ir.nist.gov/covidSubmit/data/\"\n",
    "files = [\"qrels-covid_d5_j0.5-5.txt\"]\n",
    "qrel_path = \"/Tmp/lvpoellhuber/datasets/vault/cord19/downloads/qrels-covid_d5_j0.5-5.txt\"\n",
    "\n",
    "for file in files:\n",
    "    file_url = trec_url+file\n",
    "\n",
    "    with requests.get(file_url, stream=True) as r:\n",
    "        r.raise_for_status()\n",
    "        with open(qrel_path, 'w') as f:\n",
    "            f.write(r.text) \n"
   ]
  },
  {
   "cell_type": "code",
   "execution_count": 10,
   "id": "67036ad8",
   "metadata": {},
   "outputs": [],
   "source": [
    "qrel_path = \"/Tmp/lvpoellhuber/datasets/vault/cord19/downloads/qrels-covid_d5_j0.5-5.txt\"\n",
    "relevant_doc_ids = set()\n",
    "with open(qrel_path, \"r\", encoding=\"utf-8\") as f:\n",
    "    for line in f.readlines():\n",
    "        qid, _, cord_id, score = line.strip().split(\" \")\n",
    "        if int(score) > 0:\n",
    "            relevant_doc_ids.add(cord_id)"
   ]
  },
  {
   "cell_type": "code",
   "execution_count": 16,
   "id": "fc53a804",
   "metadata": {},
   "outputs": [
    {
     "name": "stderr",
     "output_type": "stream",
     "text": [
      "  0%|          | 0/7 [00:00<?, ?it/s]/tmp/ipykernel_994925/903382106.py:25: DtypeWarning: Columns (13,14) have mixed types. Specify dtype option on import or set low_memory=False.\n",
      "  df = pd.read_csv(f)[[\"sha\", \"cord_uid\"]].dropna()\n",
      "100%|██████████| 4/4 [01:15<00:00, 18.76s/it]\n",
      " 14%|█▍        | 1/7 [01:19<07:54, 79.04s/it]/tmp/ipykernel_994925/903382106.py:25: DtypeWarning: Columns (14) have mixed types. Specify dtype option on import or set low_memory=False.\n",
      "  df = pd.read_csv(f)[[\"sha\", \"cord_uid\"]].dropna()\n",
      "100%|██████████| 9/9 [01:42<00:00, 11.43s/it]\n",
      " 43%|████▎     | 3/7 [04:42<06:23, 95.92s/it]/tmp/ipykernel_994925/903382106.py:25: DtypeWarning: Columns (5,13,14,16) have mixed types. Specify dtype option on import or set low_memory=False.\n",
      "  df = pd.read_csv(f)[[\"sha\", \"cord_uid\"]].dropna()\n",
      "100%|██████████| 4/4 [01:29<00:00, 22.48s/it]\n",
      "100%|██████████| 9/9 [01:28<00:00,  9.88s/it]\n",
      " 71%|███████▏  | 5/7 [08:49<03:48, 114.18s/it]/tmp/ipykernel_994925/903382106.py:25: DtypeWarning: Columns (1,4,5,6,13,14,15,16) have mixed types. Specify dtype option on import or set low_memory=False.\n",
      "  df = pd.read_csv(f)[[\"sha\", \"cord_uid\"]].dropna()\n",
      "100%|██████████| 4/4 [01:38<00:00, 24.53s/it]\n",
      "100%|██████████| 7/7 [10:33<00:00, 90.44s/it] \n"
     ]
    },
    {
     "data": {
      "text/plain": [
       "4777994"
      ]
     },
     "execution_count": 16,
     "metadata": {},
     "output_type": "execute_result"
    }
   ],
   "source": [
    "from tqdm import tqdm\n",
    "import tarfile\n",
    "import io\n",
    "import os\n",
    "import pandas as pd\n",
    "import json\n",
    "import re\n",
    "\n",
    "\n",
    "total_nb_sentences = 0\n",
    "nb_sentences = []\n",
    "nb_words = []\n",
    "cord_dir = \"/Tmp/lvpoellhuber/datasets/vault/cord19/downloads\"\n",
    "id_dict = {}\n",
    "for filename in tqdm(os.listdir(cord_dir)):\n",
    "    if filename.startswith(\"cord-19\"):\n",
    "        tar_path = os.path.join(cord_dir, filename)\n",
    "        date = filename.split(\"_\")[-1].split(\".\")[0]\n",
    "\n",
    "        # Open the cord-19 tar archive\n",
    "        with tarfile.open(tar_path, \"r\") as outer_tar:\n",
    "            # Get metadata information, and append it to the ID Table\n",
    "            metadata_member = outer_tar.getmember(f\"{date}/metadata.csv\")\n",
    "            f = outer_tar.extractfile(metadata_member)\n",
    "            df = pd.read_csv(f)[[\"sha\", \"cord_uid\"]].dropna()\n",
    "            id_dict = dict(zip(df[\"sha\"], df[\"cord_uid\"]))\n",
    "            id_dict.update(id_dict)\n",
    "\n",
    "            for member in tqdm(outer_tar.getmembers()):                                                \n",
    "                if member.name.endswith(\".tar.gz\"):\n",
    "                    # Extract the inner JSON archives\n",
    "                    f = outer_tar.extractfile(member)\n",
    "                    inner_bytes = f.read()\n",
    "                    inner_fileobj = io.BytesIO(inner_bytes)\n",
    "\n",
    "                    # Open the inner tar.gz\n",
    "                    with tarfile.open(fileobj=inner_fileobj, mode=\"r\") as inner_tar:\n",
    "                        for inner_member in inner_tar.getmembers():\n",
    "                            if inner_member.name.endswith(\".json\"):\n",
    "                                with inner_tar.extractfile(inner_member) as inner_f:\n",
    "                                    article = json.load(inner_f)\n",
    "                                    cord_id = id_dict.get(article[\"paper_id\"], None)\n",
    "                                    if (cord_id is not None) and (cord_id in relevant_doc_ids):\n",
    "                                        title = article[\"metadata\"][\"title\"]\n",
    "                                        abstract = \" \".join([text[\"text\"] for text in article[\"abstract\"]])\n",
    "                                        body_text = \" \".join([text[\"text\"] for text in article[\"body_text\"]])\n",
    "                                        full_text = abstract+\" \"+body_text\n",
    "                                        sentences = re.split(r'(?<=[.!?])\\s+', full_text.strip())\n",
    "                                        total_nb_sentences += len(sentences)\n",
    "                                        nb_sentences.append(len(sentences))\n",
    "                                        nb_words.append(len(full_text.strip().split()))\n",
    "\n",
    "sentence_df = pd.Series(nb_sentences)\n",
    "word_df = pd.Series(nb_words)\n",
    "total_nb_sentences"
   ]
  },
  {
   "cell_type": "code",
   "execution_count": 19,
   "id": "fc66533d",
   "metadata": {},
   "outputs": [
    {
     "data": {
      "text/plain": [
       "'To examine and summarize the current literature on serologic methods for the detection of antibodies to severe acute respiratory syndrome coronavirus 2 (SARS-CoV-2). Methods: A literature review was performed using searches in databases including PubMed, medRxiv, and bioRxiv. Thirty-two peer-reviewed papers and 23 preprints were examined. The studies included lateral flow immunoassay, enzyme-linked immunosorbent assay, chemiluminescence immunoassay, and neutralizing antibody assays. The use of all major SARS-CoV-2 antigens was demonstrated to have diagnostic value. Assays measuring total antibody reactivity had the highest sensitivity. In addition, all the methods provided opportunities to characterize the humoral immune response by isotype. The combined use of IgM and IgG detection resulted in a higher sensitivity than that observed when detecting either isotype alone. Although IgA was rarely studied, it was also demonstrated to be a sensitive marker of infection, and levels correlated with disease severity and neutralizing activity. The use of serologic testing, in conjunction with reverse transcription polymerase chain reaction testing, was demonstrated to significantly increase the sensitivity of detection of patients infected with SARS-CoV-2. There was conflicting evidence regarding whether antibody titers correlated with clinical severity. However, preliminary investigations indicated some immunoassays may be a surrogate for the prediction of neutralizing antibody titers and the selection of recovered patients for convalescent serum donation. The first cases of coronavirus disease 2019 (COVID- 19) were reported in Wuhan, China, in December 2019. 1 As of June 2, 2020, 6, 194 ,533 confirmed cases and 376,320 COVID-19-related deaths have been reported worldwide. 2 In the Americas, 2,905,432 cases and 163,248 related deaths were confirmed. The first case of COVID-19 in the United States was reported on January 19, 2020, in Washington. 3 Five months later, the United States has become one of the most affected regions with 1,783,638 confirmed cases and 104,247 deaths. 2 The rate of transmissibility, environmental stability of severe acute respiratory syndrome coronavirus 2 (SARS-CoV-2), and the severity of disease in high-risk populations have all contributed to pandemic levels that challenge many health systems. Consequently, understanding and implementing effective evidence-based testing is the cornerstone to correctly identify cases, predict clinical outcomes, and develop treatment strategies. Reverse transcription polymerase chain reaction (RT-PCR) assays used to detect the presence of viral genetic material have become the gold standard of diagnosis. However, RNA extraction • Current peer-reviewed and non-peer-reviewed studies of serologic methods have diverse information. Understanding the strengths and limitations of this literature is critical in the evolution of clinical applications of serologic testing. • The use of total antibody or simultaneous IgG/IgM measurements (regardless of method) significantly adds sensitivity to reverse transcription polymerase chain reaction testing protocols early post onset of symptoms and becomes the most accurate diagnostic test at later time points. • Additional studies are needed to determine if antibody titers correlate with disease severity and whether certain antigen-specific antibodies determined by routine serologic testing may be surrogate markers for the presence of neutralizing antibodies and long-term immunity. The SARS-CoV-2 virus is genetically related to the severe acute respiratory syndrome coronavirus (SARS-CoV), which emerged in 2002 to 2003 and the Middle East respiratory syndrome coronavirus (MERS-CoV), which was identified in 2012. 1 The genomic sequence of SARS-CoV-2 has approximately 82% homology to SARS-CoV and 89% homology with bat SARS-like-CoVZXC21. 1 SARS-CoV-2 is a large (50-200 nm) positive-sense single-stranded RNA virus with 4 major structural proteins: nucleocapsid protein (NP) holding the viral RNA and 3 envelope structural proteins including the spike protein (SP), envelope protein (EP), and membrane protein (MP). 12 The NP is the most abundant viral protein made and shed during infection. The SP consists of 2 subunits referred to as S1 and S2. S1 contains the receptorbinding domain (RBD) needed for binding to the host angiotensin-converting enzyme 2 (ACE2) receptor. 12 S2 contains elements needed for membrane fusion. MP is the most abundant protein on the virion, and EP is the smallest protein and involved in the assembly and release of virions. The SP, RBD, and NP proteins appear to be the main targets of the humoral immune response in coronavirus infections including SARS-CoV-2 and were the antigens used in the majority of the serologic assays examined in this literature review. [12] [13] [14] Studies varied widely in the detection of the different isotypes of antibody: IgM, IgA, and IgG. Many immunoassays, referred to as total antibody assays, were constructed to detect levels of all isotypes simultaneously. While a few studies presented quantitative data, the large volume of current literature described mostly qualitative and semiquantitative immunoassays. In the analysis of these studies, it is essential to examine the details of sample size and the patient population(s). 15, 16 The design of a comprehensive validation study to address assay specificity requires the assessment of 3 groups of samples: confirmed SARS-CoV-2 infected patients, confirmed healthy negative controls, and secondary sets of controls from patients with other viral infections and diseases. The latter group should include samples from patients with other human coronavirus infections. For sensitivity data, consideration of the timing of sample acquisition related to the onset of symptoms is crucial. Samples acquired at very early times may represent a period where antibody levels are not present or are below the level of detection. Finally, the performance of the assays will be affected by the technical component of the assays themselves. For LFIA, reactivity is determined by visual inspection of bands on the immunochromatography paper present in single use devices. In the case of the semiautomated ELISA and automated CLIA methods, the quantitation is provided by spectrometry and luminescence detection, respectively. It is important to note that many non-peer-reviewed manuscripts were included in this review; the reader is advised to search for final refereed versions that may have updated data and discussion points. The variable sensitivity and specificity of LFIA have been the focus of the media and numerous studies due to the growing number of commercially available devices. 6, 17 Several investigations reported high sensitivity and specificity of these assays although many lacked information regarding the target antigens and well-defined negative control groups (ie, human coronavirus controls). ❚Table 1❚ summarizes the review of studies using LFIA methods. 6, 7, [18] [19] [20] [21] [22] [23] [24] [25] [26] [27] [28] [29] The experimental design and data of 7 studies were judged to provide insight into LFIA method for IgM detection and 84% and 85% for IgG detection, respectively. Interestingly, the Orient LFIA, also constructed with the same 2 antigens, showed a sensitivity of 89% for IgM detection and 92% for IgG detection. The assay specificity for each isotype was 100%, but it should be noted that the latter study tested a very small sample set of negative controls. Another study utilized samples from both negative patients and patients with other viral infections and examined 6 LFIA devices. 18 Although no target antigen information was presented, the patient sample sets were robust. While evaluation of 2 of the LFIA demonstrated a poor performance, the remaining devices demonstrated 83% to 93% sensitivity and 100% specificity values. Lastly, Traugott et al 28 presented data regarding 2 LFIA with specificity ranging from 98% 100%, but sensitivity was reported as poor at less than 5 days post onset of symptoms (13%-20%), poor to moderate at days 6 to 10 (20%-80%), and excellent at or after day 11 (100%). One study examined the accuracy of 10 different LFIA and 2 ELISA immunoassays using samples obtained from COVID-19 patients at different time points of disease. 6 Specificity was assessed using 108 samples from healthy subjects and 52 samples from patients with other respiratory illnesses (not specified). The highest detection rate observed using LFIA devices was obtained with combined IgM and IgG detection. Accuracy peaked at days 16 to 20 post onset of symptoms with sensitivity results greater than 80% and specificity results greater than 95%. Notably, this study reported several false-positive results obtained from banked specimens collected before the pandemic. These false-positive results suggest nonspecific binding by plasma proteins or cross-reactivity with antibodies produced during other viral infections. In a separate study of 7 LFIA devices, Van Elslande et al 29 also used a secondary set of 103 control samples to assess assay performance and reported a range of 97% to 100% specificity with the combination of positive IgM and IgG results but an 85% to 98% range of specificity when only IgM or IgG positive results were used. In their study, sensitivity was also reported to vary with the timing of sample acquisition post onset of symptoms. LFIA is an appealing platform for SARS-CoV-2 testing with a relatively low cost per test and the advantage of potential use for point-of-care testing. 30 LFIA described in the literature thus far provided results for both IgM and IgG. The majority of the reports demonstrated a higher sensitivity and specificity with the detection of both isotypes, and a higher specificity was observed with the detection of the IgG isotype over the detection of the IgM isotype alone. Antigens frequently used in LFIA include NP, RBD, and combined use of NP and SP. A superior test accuracy based on the use of specific target antigen(s) was not evident at this time. Studies utilizing samples obtained at various time points demonstrated the accuracy of LFIA was optimal at approximately 2 weeks post onset of symptoms. Overall, the understanding of the limitations or advantages for the implementation of LFIA-based assays is severely impacted by the presence of only a few properly designed studies in the current literature (Table 1) . Publications that described ELISA method validation often sought to address which antigens and antibody isotypes provided the best sensitivity and specificity ❚Table 2❚. 6, 18, 19, 22, [26] [27] [28] [31] [32] [33] [34] [35] [36] [37] [38] [39] [40] In many of these studies, these calculations were reported solely to compare the performance of different antigens or the detection of different isotypes and not necessarily to propose the use of the assay for clinical implementation. Additionally, as noted in Table 2 , many investigations utilized the ELISA method to study the timeline of antibody expression in SARS-CoV-2 patients. To date, few investigations have focused on immunoassays utilizing the full SP antigen. 31, 34 The SP antigen includes the RBD antigen as well as other essential peptides that may be the target of the humoral immune response. Amanat et al 31 generated 2 different versions of the SARS-CoV-2 spike protein. One construct expressed the full length of SP and a second construct presented only the RBD. Evaluating a small number of samples from RT-PCR-positive patients, reactivity to both antigens was excellent as demonstrated by optical density values. However, SP reactivity was significantly higher than that observed for RBD. IgG3, IgM, and IgA were the dominant isotypes observed in these patient samples. The investigators further reported that reactivity to a sample bank of sera obtained from patients with other human coronavirus infections was negligible. Okba et al 34 produced an array of different ELISA to examine antibody reactivity to SP, S1, NP, and RBD antigens. A large cohort of samples was obtained from patients with other viral respiratory infections and was inclusive of 116 banked samples from patients infected with various human coronaviruses. Only samples from some SARS-CoV and MERS-CoV patients cross-reacted with ❚Table 2❚ Studies Reporting the Use of Enzyme-Linked Immunosorbent Assay Methods in the Detection of Antibody to SARS-CoV-2 the SARS-CoV-2 antigens. The RBD and NP ELISA were the most effective in the detection of antibodies in patients with mild infection. These 2 antigens were examined in a second study using samples obtained from a cohort of 16 patients obtained 14 days or longer after symptom onset. 38 The RBD ELISA showed higher sensitivity (100% for IgG and 94% for IgM) compared to the NP ELISA (94% for IgG and 88% for IgM). Okba et al 34 also examined commercial ELISA using the S1 antigen for the detection of IgA and IgG antibodies. Both ELISA showed some cross-reactivity with samples obtained from other human coronavirus positive patients. Overall, the IgA ELISA displayed a higher sensitivity and the IgG ELISA displayed a higher specificity. Lassaunière et al 18 evaluated ELISA constructed with RBD and S1 antigens using a control group of samples from patients with other non-SARS-CoV-2 viral infections. The performance of a sandwich ELISA for the detection of total antibody reactivity to RBD was superior to that observed for the commercial IgG and IgA ELISA using the S1 antigen. The ELISA for total antibody detection provided the highest sensitivity and specificity of 93% and 100%, respectively. The specificity of the IgG and IgA assays were similar, but the IgA ELISA had a superior sensitivity of 93% vs 67% for IgG. The authors reported a similar cross-reactivity of the commercial S1 ELISA to other human coronaviruses as observed by Okba et al. 34 Zhao et al 33 also utilized a sandwich ELISA to measure total antibody reactivity to RBD antigen as well as a RBD targeted ELISA to measure IgM reactivity alone and a NP targeted ELISA to detect IgG reactivity. Examining a cohort of over 300 patient samples, the total antibody assay had superior performance vs the other assays with a sensitivity and specificity of 93% and 99%, respectively. While the specificity of the IgM and IgG ELISA was 99%, the sensitivity of the IgG ELISA (NP) was 65% compared to the IgM ELISA (RBD) at 83%. Whitman et al 6 evaluated 2 different ELISA and 10 different LFIA. In their study, the sensitivity for the ELISA assays using samples obtained after day 16 post onset of symptoms was greater than 80% and the specificity was greater than 95%. The agreement of the ELISA with different LFIA ranged from 75 to 95%. Overall, ELISA assays with RBD and NP antigens were the most frequently used in these early studies. Although the sensitivity of the assays was affected by the timing of sample acquisition, a higher overall sensitivity was consistently observed with the use of total antibody detection. The ELISA technique is labor intensive and unsuitable for point-of-care testing; however, it may offer the advantage of determining antibody titers and selective isotype detection. The importance of these options as clinical applications is unknown at this time. Overall, while several ELISA-based studies were robust in experimental design, many reports did not include examination of important control samples to best evaluate method specificity (Table 2) . The use of CLIA in the detection of SARS-CoV-2 antibody is of particular interest, as this method has excellent sensitivity with a high signal-to-noise ratio in the detection of other viral infections. CLIA uses recombinant antigen coated magnetic beads and a lumigen substrate with analysis on automated platforms. In current reports, NP, combined NP and SP, and RBD antigens were most commonly used ❚Table 3❚. 8, 22, 26, 27, [41] [42] [43] [44] [45] [46] Many studies utilized CLIA to address differences in patient populations and time of onset of symptoms vs serologic results. Long et al 42 reported the use of the NP and SP antigen combination in a study of 363 samples from confirmed and suspect COVID-19 patients. In their report, IgG-positive serostatus approached 100% at 20 days after onset of symptoms, and the median seroconversion for IgM and IgG was 13 days. Using a similar NP and SP assay but a smaller cohort of positive and negative patients, Jin et al 8 reported a 48% sensitivity and 100% specificity for IgM detection. However, for IgG, the reported sensitivity was 89% and specificity was 91%. Accuracy was higher for combined IgM and IgG testing with a posterior probability of greater than 99%; this was followed by IgG alone (90%) and IgM alone (86%) and was corroborated in a separate study. 47 Five studies warranted a closer examination, as each included control samples from patients with non-SARS-CoV-2 infections. Lin et al 43 used NP antigen to detect IgM and IgG reactivity. Sensitivity for both IgM and IgG assays was reported as 82%, and the specificity was 81% for IgM detection and 98% for IgG detection. Ma et al 44 compared RBD and NP antigen targeted CLIA and reported a higher sensitivity and specificity when using the RBD antigen. A superior sensitivity and specificity were also demonstrated with the detection of IgA over IgM or IgG detection alone. In addition, the use of IgA in tandem with the detection of either IgM or IgG increased assay sensitivity and specificity. Geurtsvankessel et al 26 examined a total antibody assay for S1/S2 reactivity and reported a sensitivity of 73% and a specificity of 98%. Bryan et al 46 validated an IgG antibody assay using NP antigen with a specificity of 100% based on the analysis of banked samples originally submitted for HSV testing. This study also included 689 samples from confirmed COVID-19 patients. The assay sensitivity increased from 53% at day 7 to 100% at day 17. Lastly, Zhang et al 41 used a large cohort of samples and showed an area under the curve of 0.99 and 1.00 for IgM and IgG, respectively, using a combined NP and SP CLIA. The CLIA assay is traditionally considered a very sensitive method with the capability to detect low levels of antibodies. CLIA assays are automated and allow for a high throughput of samples. In the current literature review, RBD and NP were the most commonly targeted antigens, and the studies detected IgM and IgG isotypes as well as total antibody reactivity. The use of RBD antigen and IgG detection produced the highest accuracy data among studies. It is important to consider that the variation in performance among different platforms may have been related to sample acquisition timing, which was not consistently reported in the studies. RT-PCR testing for viral detection is a frontline tool to detect patients with suspected SARS-CoV-2 infection. However, several studies showed that the sensitivity of RT-PCR testing decreased over time post onset of symptoms and that this change was observed to be concurrent with the increasing sensitivity of antibody detection methods. Guo et al 32 evaluated the use of a NP targeted ELISA using IgM, IgA, and IgG detection in a sample set of 82 RT-PCR confirmed cases and 58 suspected cases with negative RT-PCR. Early in disease (5 days post onset of symptoms), IgM detection was positive in 93% of suspected cases with negative RT-PCR results and 76% of the RT-PCR confirmed cases. Overall, the sensitivity of RT-PCR testing alone was 52%; however, when using RT-PCR in combination with the ELISA, the total sensitivity increased to 99%. Similar results were observed in another study where combined detection of IgG and IgM identified over 70% of suspected cases that were negative by RT-PCR testing. 38 As the course of the disease progresses, the utility of serology increases as well. Zhao et al 33 evaluated the sensitivity of a total antibody ELISA to the RBD antigen. In the early (1-7) days post onset of symptoms, the sensitivity was 67% for RT-PCR; this increased to 79% when RT-PCR was combined with ELISA testing. The sensitivity for RT-PCR decreased to 54% at days 8 to 14 while the ELISA sensitivity increased to 90%. At this time point, the use of both methods resulted in a sensitivity of 97%. Lastly, on days 15 to 39, RT-PCR sensitivity was reported as 46%, and the  Numerous studies indicated that antibody responses may vary according to disease severity, and some reports proposed that monitoring titers may be applied in clinical practice to guide earlier aggressive treatment. Traditionally, the hallmarks of a humoral immune response include the early expression of IgM isotype, which then matures into IgG isotype expression. Notably, many reports of SARS-CoV-2 patients indicated that IgM expression was observed concurrently with IgG expression. Long et al 42 conducted a large multicenter study using an NP and SP targeted CLIA. The median seroconversion of both isotypes was recorded at day 13. In addition, a different NP and SP targeted CLIA studied by Suhandynanata et al 45 showed a median seroconversion on days 4 to 5 for IgM and IgG. The goal of several ELISA studies was to define the period of seroconversion, and all demonstrated the higher sensitivity of the assays by the second week post onset of symptoms. 20,28,32, 33 Zhao et al 33 reported that the median seroconversion time of IgM and IgG to RBD antigen was days 12 and 14, respectively. Guo et al 32 reported the median appearance of IgM and IgA at day 5 and IgG at day 14 post symptom onset. Their study used serial samples obtained from the same patients and an ELISA for antibody detection to the NP antigen. Xiang et al 20 also used a NP targeted ELISA and reported the median appearance of antibody at day 4 post onset of symptoms. Overall, while these results are similar to that reported in a review of serologic testing for MERS-CoV and SARS-CoV, they may have been affected by choice of target antigens, the various immunoassay kits, and the level of detail of case history used to categorize the time of sample acquisition post onset of symptoms. 14 Few studies have examined the differences in titers by case severity classification, and there was no consensus among the findings. Tan et al 49 reported that the IgG and IgM detection occurred earlier for severe cases compared to nonsevere cases (P < .05). Higher titers were also observed in the former group. Wang et al 50 evaluated the titers of IgM and IgG in 116 confirmed cases of which 101 of the cases had mild to moderate disease and 15 patients died. Levels of IgM were significantly higher in deceased patients (P = .019). However, no significant correlation was observed between case outcome and IgG titers. In contrast, a large study of 338 confirmed COVID-19 patients reported elevated IgM titers but lower IgG levels in critical cases. 51 Ma et al 44 evaluated IgA titers in a cohort of 216 patients and observed a significant correlation with disease severity (P < .0001) and peak levels of IgA 16 to 20 days after symptom onset. Sun et al 40 reported significantly higher IgG titers to SP antigen in non-ICU patients, whereas IgG titers to NP antigen were elevated in ICU patients. Lastly, To et al, 38 using NP and RBD targeted ELISA observed no correlation between titers and severity. Previously, quantification performed by ELISA and neutralizing antibody assays showed that individuals over 60 years of age had higher antibody titers than young healthy adults with human coronavirus (non-SARS-CoV-2) infection. 52 Notably, in a study of patients recovered from COVID-19, samples obtained from elderly and middle-aged individuals had higher titers of SP reactive antibody compared to young adults. 53 Thus, while increased age is often associated with severe SARS-CoV-2 disease and poor outcomes, high levels of antibody production do not appear to be detrimental given these preliminary reports. There were limited reports of testing approaches for the detection of asymptomatic individuals. Much of the current literature was weakened given the limitations in the experimental design of studies used to validate the serologic methods. For example, Paradiso et al 54 used an LFIA for IgM and IgG detection to screen 525 health care workers. Previously, this group reported an overall 30% sensitivity and 89% specificity obtained during the validation of this LFIA. It was acknowledged that the reduced sensitivity was related to the selection of validation samples from patients early after the onset of symptoms. 21 In the health care worker screening study, only 1.1% of the cases were seropositive; these cases tested negative by RT-PCR. All the cases were positive for IgM, and 1 case was positive for both IgM and IgG. Another study from the same investigation group examined asymptomatic cases presenting to the emergency department. 21 Twenty nine percent of the cases were positive by RT-PCR testing and 21% of the cases were positive by LFIA testing. As the LFIA was not fully validated, it is problematic to apply these results to develop screening strategies for asymptomatic patients. Bendavid et al 55 used LFIA in a study of 3,330 individuals from Santa Clara County, CA, and found an unadjusted antibody prevalence of 1.5% (95% confidence interval [CI], 1.11%-1.97%). The weighted population prevalence was 2.8% (95% CI, 2.24%-3.37%). 55 The kit was validated using samples from confirmed negative and positive SARS-CoV-2 patients with a combined IgM/IgG sensitivity of 80% and specificity of 99%. No secondary controls with non-SARS-CoV-2 viral infections were included in the validation study. As a result, this study likely overestimated the specificity of this LFIA. Zhao et al 39 used a lab-developed ELISA for the detection of IgG antibody to S1 antigen with reported excellent sensitivity and specificity, as determined by the use of samples from symptomatic hospitalized patients and healthy individuals. In a subsequent study, the same ELISA was examined in 276 asymptomatic health care workers. Ten percent of health care workers had seropositive results. Samples from a small cohort of close contact individuals were also examined. All subjects tested negative by RT-PCR, but 1 individual was seropositive. As with the study by Bendavid et al, 55 the specificity of the ELISA assay was not fully assessed; this complicates the interpretation of these results. A report of serologic testing of a family cluster of 6 individuals provided interesting data regarding the complexity of test sensitivity. 56 Two family members were hospitalized with SARS-CoV-2 symptoms. One individual tested positive by RT-PCR on presentation, and the second patient tested negative twice before obtaining a positive result on day 5. Both individuals were positive for IgM reactivity by ELISA. The 4 remaining family members remained asymptomatic. However, 3 of 4 tested positive for IgM reactivity, and 2 of 3 were positive by RT-PCR testing at later dates. The fourth individual remained clinically asymptomatic and was negative on all testing. Implementation of serology testing to screen the general population and asymptomatic health care workers is currently of significant interest. Nonetheless, the available evidence is limited to support its use in these scenarios. With unclear population prevalence and the use of immunoassays that are not fully validated, the limitations of test sensitivity and specificity in the evaluation of asymptomatic individuals may be difficult to overcome. 57 Many studies focused on the detection of neutralizing antibodies for the potential use as a predictor of clinical outcome and in the identification of convalescent serum for use in a treatment strategy. Several of these studies evaluated the correlation of data from ELISA using RBD, S1, S2, and NP antigens to the presence of neutralizing antibodies. Wu et al 53 studied neutralizing antibodies using a pseudotyped-lentiviral-vector-based assay using plasmids for SARS-CoV and SARS-CoV-2 SP protein. Titers of neutralizing antibodies were reported as ID50 (highest dilution resulting in 50% reduction of luciferase luminescence). Parallel ELISA for SARS-CoV and SARS-CoV-2 RBD, S1, and S2 were conducted. The study samples were obtained from 175 patients with mild to moderate symptoms who recovered from COVID-19. Levels of neutralizing antibodies were low (ID50, <200) before day 10 and appeared at 10 to 15 days after the onset of symptoms. Titers persisted at similar levels on repeat testing 2 weeks later. The levels of neutralizing antibodies in the patients were categorized as follows: low to mid in 17% (ID50, 500-999), mid to high 39% (ID50, 1,000-2,500), and high in 14% (ID50, >2,500). Samples from 30% of patients had very low levels (ID50, <500) and included samples from 10 patients who had reactivity below the level of detection (ID50, <40). Results obtained from ELISA using RBD, S1, and S2 antigens correlated moderately with neutralizing antibody titers. Correlation coefficients ranged from 0.42 to 0.51 (P < .0001). Ni et al 37 examined RBD and NP ELISA in tandem with the pseudovirus neutralization test in cohorts of 6 patients tested at the time of discharge and 2 weeks later. Significant levels of IgM and IgG were present at both time points as determined by ELISA methods. Notably, while neutralizing antibody was detected at the time of discharge, levels were lower in 5 of 6 patients 2 weeks later. Okba et al 34 compared the results of IgA and IgG ELISA for RBD, S1, and NP to data obtained from a plaque reduction neutralization assay (using Vero E6 cells) and reported a significant correlation (r = 0.88, P < .01) with all ELISA. The strongest correlation was observed with IgA reactivity (r = 0.93, P < .001). It is important to note that various ELISA in this study were validated with a large secondary sample set obtained from patients with other respiratory viral infections ( Table 2) . The identification of novel antigenic epitopes that may be important in the humoral immune response was the focus of a limited number of studies. Poh et al 13 evaluated the reactivity of 25 convalescent serum samples. Six samples showed significant neutralization activity (ID50, >600) and were selected for further analysis. Additional experiments to characterize antigen targets showed that the S14 and S21 peptides (within the SP) provided the strongest reactivity by ELISA methods, and these results correlated with neutralizing activity. Jiang at al 58 developed a microarray of 28 SARS-CoV-2 proteins to profile IgG/IgM responses of 29 convalescent sera. All patients had combined IgM/IgG responses to NP and S1 antigens but not to S2 antigen. Furthermore, a significant number of samples were positive for anti-ORF9b and anti-NSP5 antibodies. These peptides may represent good predictors for immunity and possible therapeutic targets. Overall, understanding the utility of routine serologic methods (ie, ELISA, CLIA) in the prediction of convalescence is Numerous immunoassays for the detection of antibodies to SARS-CoV-2 are rapidly emerging. These immunoassays have the potential to improve the diagnosis and monitoring of infection in different scenarios. 17, [59] [60] [61] Published and non-peer-reviewed studies varied dramatically in the definition of patient groups, time of sample acquisition, sample size, and inclusion of relevant control sera from patients with non-SARS-CoV-2 respiratory infections. These are all critical variables that will affect the sensitivity and specificity of the different immunoassays and should be a fundamental part of the review of any validated assay. 15 Determining the final roles of LFIA and ELISA immunoassays in SARS-CoV-2 testing and research is difficult at this time, as this is limited by the pitfalls in the experimental design of many of these foundational studies. Further well-validated assays determined through studies with rigorous experimental design are needed. In the current literature, the study methods were heterogeneous regarding the specific antigens used and the different isotypes of antibodies measured; few studies compared these variables simultaneously. The most common antigens used in the assays included RBD, S1, and NP. There was preliminary evidence that the use of particular target antigens may provide value to increase the sensitivity of antibody detection methods. However, additional comprehensive studies need to be conducted to reproduce this early reported data. In addition, antigenic epitopes within the SP appeared to be important in the immune response and thus, this region remains of interest for future detailed studies. There is compelling evidence that using total antibody or combined IgG/IgM detection offered the highest sensitivity of detection. Data from preliminary studies indicated that additional investigations should examine the clinical correlation of different isotypes and titers to disease severity. It is also clear that the timing of sample acquisition is a crucial determinant of test accuracy, although this important information was not always clearly presented in the current literature. 16 The earliest positive results were reported by day 5 post onset of symptoms, and accuracy peaked by the second week of symptoms. Early in the course of the disease, when RT-PCR sensitivity was reported as 50% to 60%, the concomitant use of serologic tests significantly added sensitivity with consistently reported values over 90%. Moreover, after 10 to 14 days post onset of symptoms, the sensitivity of RT-PCR dropped significantly while serology testing reached its peak. As fully validated methods become commercially available, serology methods may be utilized as an adjunct tool to RT-PCR testing protocols in patients with suspected infection. Nearly all of the current literature focused on the results obtained using serologic testing in symptomatic patients. It will be essential to define antibody responses in individuals with subclinical and mild disease before immunoassays can be used in screening and seroprevalence studies. At the time of this writing, while the potential importance of quantitative titers was raised in the literature, testing platforms available to provide this information are largely absent from clinical laboratories. Lastly, defining convalescence and the presence of long-lasting immunity to SARS-CoV-2 after infection or future vaccination is important. Additional studies are needed to determine if ease-of-use assays of antibody detection and quantitation will compare well with traditional neutralizing antibody assays. While serologic testing continues to hold promise for various applications, there are still knowledge gaps that must be clarified to give meaningful recommendations for its use in different clinical scenarios.'"
      ]
     },
     "execution_count": 19,
     "metadata": {},
     "output_type": "execute_result"
    }
   ],
   "source": [
    "full_text"
   ]
  },
  {
   "cell_type": "code",
   "execution_count": 21,
   "id": "39cbb74b",
   "metadata": {},
   "outputs": [
    {
     "data": {
      "application/vnd.microsoft.datawrangler.viewer.v0+json": {
       "columns": [
        {
         "name": "index",
         "rawType": "object",
         "type": "string"
        },
        {
         "name": "0",
         "rawType": "float64",
         "type": "float"
        }
       ],
       "ref": "55b5f355-49d1-4626-84b4-9be1215f8a47",
       "rows": [
        [
         "count",
         "34030.0"
        ],
        [
         "mean",
         "140.40534822215693"
        ],
        [
         "std",
         "126.46578360642376"
        ],
        [
         "min",
         "1.0"
        ],
        [
         "25%",
         "65.0"
        ],
        [
         "50%",
         "118.0"
        ],
        [
         "75%",
         "179.0"
        ],
        [
         "max",
         "4424.0"
        ]
       ],
       "shape": {
        "columns": 1,
        "rows": 8
       }
      },
      "text/plain": [
       "count    34030.000000\n",
       "mean       140.405348\n",
       "std        126.465784\n",
       "min          1.000000\n",
       "25%         65.000000\n",
       "50%        118.000000\n",
       "75%        179.000000\n",
       "max       4424.000000\n",
       "dtype: float64"
      ]
     },
     "execution_count": 21,
     "metadata": {},
     "output_type": "execute_result"
    }
   ],
   "source": [
    "sentence_df.describe()"
   ]
  },
  {
   "cell_type": "code",
   "execution_count": 18,
   "id": "c92aebcc",
   "metadata": {},
   "outputs": [
    {
     "data": {
      "application/vnd.microsoft.datawrangler.viewer.v0+json": {
       "columns": [
        {
         "name": "index",
         "rawType": "object",
         "type": "string"
        },
        {
         "name": "0",
         "rawType": "float64",
         "type": "float"
        }
       ],
       "ref": "ea63f84d-238f-4fe9-a02e-fb2b7c4271ab",
       "rows": [
        [
         "count",
         "34030.0"
        ],
        [
         "mean",
         "3180.7583014986776"
        ],
        [
         "std",
         "2922.1308500244386"
        ],
        [
         "min",
         "2.0"
        ],
        [
         "25%",
         "1462.0"
        ],
        [
         "50%",
         "2685.0"
        ],
        [
         "75%",
         "4018.0"
        ],
        [
         "max",
         "99960.0"
        ]
       ],
       "shape": {
        "columns": 1,
        "rows": 8
       }
      },
      "text/plain": [
       "count    34030.000000\n",
       "mean      3180.758301\n",
       "std       2922.130850\n",
       "min          2.000000\n",
       "25%       1462.000000\n",
       "50%       2685.000000\n",
       "75%       4018.000000\n",
       "max      99960.000000\n",
       "dtype: float64"
      ]
     },
     "execution_count": 18,
     "metadata": {},
     "output_type": "execute_result"
    }
   ],
   "source": [
    "word_df.describe()"
   ]
  },
  {
   "cell_type": "code",
   "execution_count": null,
   "id": "6137a045",
   "metadata": {},
   "outputs": [],
   "source": []
  }
 ],
 "metadata": {
  "kernelspec": {
   "display_name": "bmir-env (3.12.11)",
   "language": "python",
   "name": "python3"
  },
  "language_info": {
   "codemirror_mode": {
    "name": "ipython",
    "version": 3
   },
   "file_extension": ".py",
   "mimetype": "text/x-python",
   "name": "python",
   "nbconvert_exporter": "python",
   "pygments_lexer": "ipython3",
   "version": "3.12.11"
  }
 },
 "nbformat": 4,
 "nbformat_minor": 5
}
