{
 "cells": [
  {
   "cell_type": "code",
   "execution_count": 82,
   "id": "c0dc8b7d",
   "metadata": {},
   "outputs": [],
   "source": [
    "import matplotlib.pyplot as plt\n",
    "import seaborn as sns\n",
    "\n",
    "import ir_datasets\n",
    "\n",
    "import pandas as pd\n",
    "import numpy as np\n",
    "from model.data_handler import VaultDataLoader\n",
    "from beir.datasets.data_loader import GenericDataLoader\n",
    "\n",
    "FIG_PATH = \"/u/poellhul/Documents/Masters/VAULT/figures\""
   ]
  },
  {
   "cell_type": "code",
   "execution_count": 80,
   "id": "72a9f5f2",
   "metadata": {},
   "outputs": [
    {
     "data": {
      "text/html": [
       "<svg  width=\"550\" height=\"55\"><rect x=\"0\" y=\"0\" width=\"55\" height=\"55\" style=\"fill:#4878d0;stroke-width:2;stroke:rgb(255,255,255)\"/><rect x=\"55\" y=\"0\" width=\"55\" height=\"55\" style=\"fill:#ee854a;stroke-width:2;stroke:rgb(255,255,255)\"/><rect x=\"110\" y=\"0\" width=\"55\" height=\"55\" style=\"fill:#6acc64;stroke-width:2;stroke:rgb(255,255,255)\"/><rect x=\"165\" y=\"0\" width=\"55\" height=\"55\" style=\"fill:#d65f5f;stroke-width:2;stroke:rgb(255,255,255)\"/><rect x=\"220\" y=\"0\" width=\"55\" height=\"55\" style=\"fill:#956cb4;stroke-width:2;stroke:rgb(255,255,255)\"/><rect x=\"275\" y=\"0\" width=\"55\" height=\"55\" style=\"fill:#8c613c;stroke-width:2;stroke:rgb(255,255,255)\"/><rect x=\"330\" y=\"0\" width=\"55\" height=\"55\" style=\"fill:#dc7ec0;stroke-width:2;stroke:rgb(255,255,255)\"/><rect x=\"385\" y=\"0\" width=\"55\" height=\"55\" style=\"fill:#797979;stroke-width:2;stroke:rgb(255,255,255)\"/><rect x=\"440\" y=\"0\" width=\"55\" height=\"55\" style=\"fill:#d5bb67;stroke-width:2;stroke:rgb(255,255,255)\"/><rect x=\"495\" y=\"0\" width=\"55\" height=\"55\" style=\"fill:#82c6e2;stroke-width:2;stroke:rgb(255,255,255)\"/></svg>"
      ],
      "text/plain": [
       "[(0.2823529411764706, 0.47058823529411764, 0.8156862745098039),\n",
       " (0.9333333333333333, 0.5215686274509804, 0.2901960784313726),\n",
       " (0.41568627450980394, 0.8, 0.39215686274509803),\n",
       " (0.8392156862745098, 0.37254901960784315, 0.37254901960784315),\n",
       " (0.5843137254901961, 0.4235294117647059, 0.7058823529411765),\n",
       " (0.5490196078431373, 0.3803921568627451, 0.23529411764705882),\n",
       " (0.8627450980392157, 0.49411764705882355, 0.7529411764705882),\n",
       " (0.4745098039215686, 0.4745098039215686, 0.4745098039215686),\n",
       " (0.8352941176470589, 0.7333333333333333, 0.403921568627451),\n",
       " (0.5098039215686274, 0.7764705882352941, 0.8862745098039215)]"
      ]
     },
     "execution_count": 80,
     "metadata": {},
     "output_type": "execute_result"
    }
   ],
   "source": [
    "palette_name = \"muted\"\n",
    "sns.color_palette(palette_name)\n",
    "palette = sns.color_palette(palette_name)\n",
    "palette"
   ]
  },
  {
   "cell_type": "markdown",
   "id": "286805fa",
   "metadata": {},
   "source": [
    "# 1. Introduction\n",
    "Nothing to see here..."
   ]
  },
  {
   "cell_type": "markdown",
   "id": "10ec434a",
   "metadata": {},
   "source": [
    "# 2. Literature Review & Background\n",
    "Maybe later. "
   ]
  },
  {
   "cell_type": "code",
   "execution_count": null,
   "id": "5139e4ac",
   "metadata": {},
   "outputs": [],
   "source": []
  },
  {
   "cell_type": "markdown",
   "id": "e5e4a606",
   "metadata": {},
   "source": [
    "# 3. VAULT: Validating Ad-hoc Understanding in Long Texts\n"
   ]
  },
  {
   "cell_type": "markdown",
   "id": "2a60feb4",
   "metadata": {},
   "source": [
    "## MS MARCO Corpus\n",
    "\n",
    "### Stats\n"
   ]
  },
  {
   "cell_type": "code",
   "execution_count": 4,
   "id": "f954ce45",
   "metadata": {},
   "outputs": [
    {
     "name": "stderr",
     "output_type": "stream",
     "text": [
      "100%|██████████| 3201821/3201821 [00:45<00:00, 70833.41it/s]\n"
     ]
    }
   ],
   "source": [
    "corpus, queries, qrels = GenericDataLoader(\"/Tmp/lvpoellhuber/datasets/msmarco-doc\").load(\"train\")"
   ]
  },
  {
   "cell_type": "code",
   "execution_count": 10,
   "id": "8b852a0f",
   "metadata": {},
   "outputs": [],
   "source": [
    "corpus_df = pd.DataFrame.from_dict(corpus).transpose()\n"
   ]
  },
  {
   "cell_type": "code",
   "execution_count": 15,
   "id": "2bfc8ab3",
   "metadata": {},
   "outputs": [],
   "source": [
    "corpus_df[\"full_text\"] = corpus_df[\"title\"] + \" \" + corpus_df[\"text\"]"
   ]
  },
  {
   "cell_type": "markdown",
   "id": "1ce4b0f6",
   "metadata": {},
   "source": [
    "Estimated number of words. "
   ]
  },
  {
   "cell_type": "code",
   "execution_count": 19,
   "id": "cc4b85d4",
   "metadata": {},
   "outputs": [
    {
     "data": {
      "application/vnd.microsoft.datawrangler.viewer.v0+json": {
       "columns": [
        {
         "name": "index",
         "rawType": "object",
         "type": "string"
        },
        {
         "name": "full_text",
         "rawType": "float64",
         "type": "float"
        }
       ],
       "ref": "c9615193-5685-4c1e-b10b-e1844d89dec3",
       "rows": [
        [
         "count",
         "3201821.0"
        ],
        [
         "mean",
         "1131.9490105786676"
        ],
        [
         "std",
         "2381.4404524699144"
        ],
        [
         "min",
         "1.0"
        ],
        [
         "25%",
         "294.0"
        ],
        [
         "50%",
         "583.0"
        ],
        [
         "75%",
         "1123.0"
        ],
        [
         "max",
         "333754.0"
        ]
       ],
       "shape": {
        "columns": 1,
        "rows": 8
       }
      },
      "text/plain": [
       "count    3.201821e+06\n",
       "mean     1.131949e+03\n",
       "std      2.381440e+03\n",
       "min      1.000000e+00\n",
       "25%      2.940000e+02\n",
       "50%      5.830000e+02\n",
       "75%      1.123000e+03\n",
       "max      3.337540e+05\n",
       "Name: full_text, dtype: float64"
      ]
     },
     "execution_count": 19,
     "metadata": {},
     "output_type": "execute_result"
    }
   ],
   "source": [
    "msmarco_len = corpus_df[\"full_text\"].str.count(\" \")\n",
    "msmarco_len.describe()"
   ]
  },
  {
   "cell_type": "markdown",
   "id": "3d8b58f0",
   "metadata": {},
   "source": [
    "Estimated number of characters. "
   ]
  },
  {
   "cell_type": "code",
   "execution_count": 18,
   "id": "3f1a03a5",
   "metadata": {},
   "outputs": [
    {
     "data": {
      "application/vnd.microsoft.datawrangler.viewer.v0+json": {
       "columns": [
        {
         "name": "index",
         "rawType": "object",
         "type": "string"
        },
        {
         "name": "full_text",
         "rawType": "float64",
         "type": "float"
        }
       ],
       "ref": "2937832f-032c-4733-95bb-2299de5c684f",
       "rows": [
        [
         "count",
         "3201821.0"
        ],
        [
         "mean",
         "7024.66584640428"
        ],
        [
         "std",
         "14830.276317965378"
        ],
        [
         "min",
         "2.0"
        ],
        [
         "25%",
         "1838.0"
        ],
        [
         "50%",
         "3594.0"
        ],
        [
         "75%",
         "6889.0"
        ],
        [
         "max",
         "2063417.0"
        ]
       ],
       "shape": {
        "columns": 1,
        "rows": 8
       }
      },
      "text/plain": [
       "count    3.201821e+06\n",
       "mean     7.024666e+03\n",
       "std      1.483028e+04\n",
       "min      2.000000e+00\n",
       "25%      1.838000e+03\n",
       "50%      3.594000e+03\n",
       "75%      6.889000e+03\n",
       "max      2.063417e+06\n",
       "Name: full_text, dtype: float64"
      ]
     },
     "execution_count": 18,
     "metadata": {},
     "output_type": "execute_result"
    }
   ],
   "source": [
    "corpus_df[\"full_text\"].str.len().describe()"
   ]
  },
  {
   "cell_type": "markdown",
   "id": "fa6a52d4",
   "metadata": {},
   "source": [
    "### Length\n"
   ]
  },
  {
   "cell_type": "code",
   "execution_count": null,
   "id": "ab579f56",
   "metadata": {},
   "outputs": [],
   "source": [
    "ax = sns.kdeplot(msmarco_len, clip=[-1000, 5000], color=palette[0])\n",
    "plt.title(\"Densité de mots dans MS MARCO\")\n",
    "plt.ylabel(\"\")\n",
    "plt.xlabel(\"Nombre de mots\")\n",
    "sns.despine(left=True)\n",
    "plt.grid(axis=\"y\", color=\"gray\", linestyle=\"-\", linewidth=0.5, alpha=0.1)\n",
    "\n",
    "line = ax.get_lines()[0]\n",
    "x_data = line.get_xdata()\n",
    "y_data = line.get_ydata()\n",
    "\n",
    "# Find the y-value of the curve at x=512\n",
    "y_at_512 = np.interp(512, x_data, y_data)*0.97\n",
    "\n",
    "# Draw a vertical line that stops at the curve\n",
    "plt.vlines(x=512, ymin=0, ymax=y_at_512, color=palette[1], linestyle=\"--\", linewidth=1)\n",
    "\n",
    "plt.text(512, -0.000025, \"512\", color=palette[1], ha=\"center\", va=\"top\")  \n",
    "\n",
    "plt.savefig(FIG_PATH+\"/3.msmarco-nbwords.jpeg\", dpi=1000)\n",
    "\n",
    "plt.show()"
   ]
  },
  {
   "cell_type": "markdown",
   "id": "4fc3017f",
   "metadata": {},
   "source": [
    "# 4. Hierarchical Model\n",
    "Definitely later. Model structure will be on draw.io though. "
   ]
  },
  {
   "cell_type": "code",
   "execution_count": null,
   "id": "d89a82fd",
   "metadata": {},
   "outputs": [],
   "source": []
  },
  {
   "cell_type": "markdown",
   "id": "1d0f2faf",
   "metadata": {},
   "source": [
    "# 5. Results\n",
    "Definitely later. See format_metrics.py especially. "
   ]
  },
  {
   "cell_type": "markdown",
   "id": "5c50479c",
   "metadata": {},
   "source": []
  },
  {
   "cell_type": "markdown",
   "id": "d59cac79",
   "metadata": {},
   "source": [
    "# 6. Conclusion\n",
    "Probably not. "
   ]
  }
 ],
 "metadata": {
  "kernelspec": {
   "display_name": "bmir-env (3.12.11)",
   "language": "python",
   "name": "python3"
  },
  "language_info": {
   "codemirror_mode": {
    "name": "ipython",
    "version": 3
   },
   "file_extension": ".py",
   "mimetype": "text/x-python",
   "name": "python",
   "nbconvert_exporter": "python",
   "pygments_lexer": "ipython3",
   "version": "3.12.11"
  }
 },
 "nbformat": 4,
 "nbformat_minor": 5
}
